{
 "cells": [
  {
   "cell_type": "markdown",
   "metadata": {},
   "source": [
    "# Кузнецов Михаил Пи19-4"
   ]
  },
  {
   "cell_type": "markdown",
   "metadata": {},
   "source": [
    "# Номер билета 34\n"
   ]
  },
  {
   "cell_type": "markdown",
   "metadata": {},
   "source": [
    "# Задание 2\n"
   ]
  },
  {
   "cell_type": "markdown",
   "metadata": {
    "id": "Zw45PYvJmfMV"
   },
   "source": [
    "\n",
    "# Антагонистические игры\n",
    "\n"
   ]
  },
  {
   "cell_type": "code",
   "execution_count": 2,
   "metadata": {
    "id": "D_YQT9rCT_Du"
   },
   "outputs": [],
   "source": [
    "import pandas as pd\n",
    "import numpy as np\n",
    "import fractions"
   ]
  },
  {
   "cell_type": "markdown",
   "metadata": {
    "id": "r_DEZdj7mqHG"
   },
   "source": [
    "## Численный метод Брауна-Робинсон"
   ]
  },
  {
   "cell_type": "code",
   "execution_count": 3,
   "metadata": {
    "id": "DkPSMUpEbDJ4"
   },
   "outputs": [],
   "source": [
    "class Game:\n",
    "    def __init__(self, game_matrix: np.array, mixed_1: np.array, mixed_2: np.array, mixed_cost_1: float, mixed_cost_2: float):\n",
    "        self.game_matrix = game_matrix\n",
    "        self.mixed_1 = mixed_1\n",
    "        self.mixed_2 = mixed_2\n",
    "        self.mixed_cost_1 = mixed_cost_1\n",
    "        self.mixed_cost_2 = mixed_cost_2\n",
    "\n",
    "        self.pure_1 = 0\n",
    "        self.pure_cost_1 = - np.inf\n",
    "        n, m = game_matrix.shape\n",
    "        for i in range(n):\n",
    "            tmp = np.min(game_matrix[i, : ])\n",
    "            if tmp > self.pure_cost_1:\n",
    "                self.pure_1 = i\n",
    "                self.pure_cost_1 = tmp\n",
    " \n",
    "        self.pure_2 = 0\n",
    "        self.pure_cost_2 = np.inf\n",
    "        \n",
    "        for i in range(m):\n",
    "            tmp = np.max(game_matrix[ : ,i ])\n",
    "            if tmp < self.pure_cost_2:\n",
    "                self.pure_2 = i\n",
    "                self.pure_cost_2 = tmp\n",
    "\n",
    "    def __str__(self):\n",
    "        return \"\".join([\n",
    "        \"mixed strat of А: {}\\n\".format(self.mixed_1),\n",
    "        \"mixed strat of Б: {}\\n\".format(self.mixed_2),\n",
    "        \"pure strat of А: {}\\n\".format(self.pure_1),\n",
    "        \"pure strat of Б: {}\\n\".format(self.pure_2),\n",
    "        \"mixed cost of А: {}\\n\".format(self.mixed_cost_1),\n",
    "        \"mixed cost of Б: {}\\n\".format(self.mixed_cost_2),\n",
    "        \"pure cost of А: {}\\n\".format(self.pure_cost_1),\n",
    "        \"pure cost of Б: {}\\n\".format(self.pure_cost_2)],\n",
    "        )\n",
    "\n",
    "class BrownRobinsonMethod:\n",
    "    def __init__(self, eps = 10**-3):\n",
    "        self.eps = eps\n",
    "\n",
    "    def solve(self, game_matrix: np.array):\n",
    "        m, n = game_matrix.shape\n",
    "\n",
    "        # Вектора смешанных стратегий\n",
    "        x = np.zeros(m)\n",
    "        y = np.zeros(n)\n",
    "\n",
    "        # Вектора выигрыша 1 игрока и проигрыша 2 игрока\n",
    "        win_1 = np.zeros(m)\n",
    "        loss_2 = np.zeros(n)\n",
    "\n",
    "        # Текущие стратегии 1 и 2 игроков; в начале можно и случайный выбор\n",
    "        cur_st_1 = 0 # np.random.randint(m)\n",
    "        cur_st_2 = 0 # np.random.randint(n)\n",
    "\n",
    "        lower_bounds = []\n",
    "        upper_bounds = []\n",
    "\n",
    "\n",
    "        step = 0\n",
    "        cur_eps = np.inf\n",
    "        while cur_eps > self.eps:\n",
    "            # Каждый из игроков исходит от выбора другого игрока на шаге\n",
    "            # Игрок 1 среди выбора стратегии игрока 2 пытается найти наиболее выигрышную стратегию\n",
    "            # Игрок 2 среди выбора стратегии игрока 1 пытается найти наименее проигрышную стратегию\n",
    "            step += 1\n",
    "\n",
    "            win_1 = np.add(win_1, game_matrix[ : ,cur_st_2])\n",
    "            loss_2 = np.add(loss_2, game_matrix[cur_st_1, : ])\n",
    "\n",
    "            x[cur_st_1] += 1\n",
    "            y[cur_st_2] += 1\n",
    "\n",
    "            lower_bound = np.divide(np.min(loss_2), step)\n",
    "            upper_bound = np.divide(np.max(win_1), np.double(step))\n",
    "  \n",
    "            lower_bounds.append(lower_bound)\n",
    "            upper_bounds.append(upper_bound)\n",
    "\n",
    "            cur_eps = np.min(upper_bounds) - np.max(lower_bounds)\n",
    "\n",
    "            cur_st_1 = np.argmax(win_1)\n",
    "            cur_st_2 = np.argmin(loss_2)\n",
    "\n",
    "\n",
    "        cost_1 = max(lower_bounds) + np.divide(cur_eps, 2)\n",
    "        cost_2 = min(upper_bounds) - np.divide(cur_eps, 2)\n",
    "\n",
    "        # Собственно, считаем, с какой вероятностью выбираем каждую стратегию\n",
    "        x = np.divide(x, step)\n",
    "        y = np.divide(y, step)\n",
    "\n",
    "        # Чистая - наиболее вероятная в векторе смешанных\n",
    "        return Game(game_matrix, x, y, cost_1, cost_2)"
   ]
  },
  {
   "cell_type": "markdown",
   "metadata": {
    "id": "T1nelIp8huS0"
   },
   "source": [
    "## Тест"
   ]
  },
  {
   "cell_type": "code",
   "execution_count": 4,
   "metadata": {
    "colab": {
     "base_uri": "https://localhost:8080/"
    },
    "id": "78jb4lIC6sRU",
    "outputId": "ab194336-627b-4d4d-fcab-ee552163d425"
   },
   "outputs": [
    {
     "name": "stdout",
     "output_type": "stream",
     "text": [
      "mixed strat of А: [0.03076923 0.96923077 0.         0.        ]\n",
      "mixed strat of Б: [0.84615385 0.15384615 0.         0.        ]\n",
      "pure strat of А: 1\n",
      "pure strat of Б: 0\n",
      "mixed cost of А: 5.4125874125874125\n",
      "mixed cost of Б: 5.4125874125874125\n",
      "pure cost of А: 5\n",
      "pure cost of Б: 7\n",
      "\n"
     ]
    }
   ],
   "source": [
    "example = np.array([\n",
    "  [7, -6, 11, 9],\n",
    "  [5, 8, 9, 5],\n",
    "  [1, 7, 8, 2],\n",
    "  [5, -6, 6, 7]\n",
    "])\n",
    "\n",
    "brm = BrownRobinsonMethod(10**-1)\n",
    "sol = brm.solve(example)\n",
    "\n",
    "strats_a = [\"A1\", \"A2\", \"A3\", \"A4\"]\n",
    "strats_b = [\"B1\", \"B2\", \"B3\", \"B4\"]\n",
    "\n",
    "print(sol)"
   ]
  },
  {
   "cell_type": "markdown",
   "metadata": {
    "id": "lroMtk-kz4Gd"
   },
   "source": [
    "### Смешанные стратегии игроков"
   ]
  },
  {
   "cell_type": "code",
   "execution_count": 6,
   "metadata": {
    "colab": {
     "base_uri": "https://localhost:8080/",
     "height": 81
    },
    "id": "4n1KXbK3yMyo",
    "outputId": "478e0019-d4a0-427c-f7d6-b2d336aef09e"
   },
   "outputs": [
    {
     "data": {
      "text/html": [
       "<div>\n",
       "<style scoped>\n",
       "    .dataframe tbody tr th:only-of-type {\n",
       "        vertical-align: middle;\n",
       "    }\n",
       "\n",
       "    .dataframe tbody tr th {\n",
       "        vertical-align: top;\n",
       "    }\n",
       "\n",
       "    .dataframe thead th {\n",
       "        text-align: right;\n",
       "    }\n",
       "</style>\n",
       "<table border=\"1\" class=\"dataframe\">\n",
       "  <thead>\n",
       "    <tr style=\"text-align: right;\">\n",
       "      <th></th>\n",
       "      <th>A1</th>\n",
       "      <th>A2</th>\n",
       "      <th>A3</th>\n",
       "      <th>A4</th>\n",
       "    </tr>\n",
       "  </thead>\n",
       "  <tbody>\n",
       "    <tr>\n",
       "      <th>0</th>\n",
       "      <td>0.030769</td>\n",
       "      <td>0.969231</td>\n",
       "      <td>0.0</td>\n",
       "      <td>0.0</td>\n",
       "    </tr>\n",
       "  </tbody>\n",
       "</table>\n",
       "</div>"
      ],
      "text/plain": [
       "         A1        A2   A3   A4\n",
       "0  0.030769  0.969231  0.0  0.0"
      ]
     },
     "execution_count": 6,
     "metadata": {},
     "output_type": "execute_result"
    }
   ],
   "source": [
    "df1 = pd.DataFrame(data = [sol.mixed_1], columns = strats_a)\n",
    "df1"
   ]
  },
  {
   "cell_type": "code",
   "execution_count": 7,
   "metadata": {
    "colab": {
     "base_uri": "https://localhost:8080/",
     "height": 81
    },
    "id": "JFasNsNCd7PT",
    "outputId": "d9212f3c-64c3-419b-8d17-39515b96aa8e"
   },
   "outputs": [
    {
     "data": {
      "text/html": [
       "<div>\n",
       "<style scoped>\n",
       "    .dataframe tbody tr th:only-of-type {\n",
       "        vertical-align: middle;\n",
       "    }\n",
       "\n",
       "    .dataframe tbody tr th {\n",
       "        vertical-align: top;\n",
       "    }\n",
       "\n",
       "    .dataframe thead th {\n",
       "        text-align: right;\n",
       "    }\n",
       "</style>\n",
       "<table border=\"1\" class=\"dataframe\">\n",
       "  <thead>\n",
       "    <tr style=\"text-align: right;\">\n",
       "      <th></th>\n",
       "      <th>B1</th>\n",
       "      <th>B2</th>\n",
       "      <th>B3</th>\n",
       "      <th>B4</th>\n",
       "    </tr>\n",
       "  </thead>\n",
       "  <tbody>\n",
       "    <tr>\n",
       "      <th>0</th>\n",
       "      <td>0.846154</td>\n",
       "      <td>0.153846</td>\n",
       "      <td>0.0</td>\n",
       "      <td>0.0</td>\n",
       "    </tr>\n",
       "  </tbody>\n",
       "</table>\n",
       "</div>"
      ],
      "text/plain": [
       "         B1        B2   B3   B4\n",
       "0  0.846154  0.153846  0.0  0.0"
      ]
     },
     "execution_count": 7,
     "metadata": {},
     "output_type": "execute_result"
    }
   ],
   "source": [
    "df2 = pd.DataFrame(data = [sol.mixed_2], columns = strats_b)\n",
    "df2"
   ]
  },
  {
   "cell_type": "markdown",
   "metadata": {},
   "source": [
    "#### Цена игры игроков A, B при выборе смешанной стратегии"
   ]
  },
  {
   "cell_type": "code",
   "execution_count": 8,
   "metadata": {
    "colab": {
     "base_uri": "https://localhost:8080/"
    },
    "id": "fKx8APjge9V-",
    "outputId": "8d35cc04-1b96-4c62-fe06-548af44b501f"
   },
   "outputs": [
    {
     "name": "stdout",
     "output_type": "stream",
     "text": [
      "Цена игры А при выборе смешанной стратегии: 5.4125874125874125\n",
      "Цена игры Б при выборе смешанной стратегии: 5.4125874125874125\n"
     ]
    }
   ],
   "source": [
    "print(\"Цена игры А при выборе смешанной стратегии: {}\".format(sol.mixed_cost_1))\n",
    "print(\"Цена игры Б при выборе смешанной стратегии: {}\".format(sol.mixed_cost_2))"
   ]
  },
  {
   "cell_type": "markdown",
   "metadata": {
    "id": "AmY6vcg311Uk"
   },
   "source": [
    "### Чистые оптимальные стратегии игроков"
   ]
  },
  {
   "cell_type": "code",
   "execution_count": 9,
   "metadata": {
    "colab": {
     "base_uri": "https://localhost:8080/"
    },
    "id": "PpxRuG4tZ0g0",
    "outputId": "9d5f105e-19b5-4bd5-a93e-a7eb37198305"
   },
   "outputs": [
    {
     "name": "stdout",
     "output_type": "stream",
     "text": [
      "Чистая стратегия игрока А: 1, стоимость игры: 5\n",
      "Чистая стратегия игрока Б: 0, стоимость игры: 7\n"
     ]
    }
   ],
   "source": [
    "print(\"Чистая стратегия игрока А: {}, стоимость игры: {}\".format(sol.pure_1, sol.pure_cost_1))\n",
    "print(\"Чистая стратегия игрока Б: {}, стоимость игры: {}\".format(sol.pure_2, sol.pure_cost_2))"
   ]
  },
  {
   "cell_type": "markdown",
   "metadata": {},
   "source": [
    "#### Класс для более наглядного вывода"
   ]
  },
  {
   "cell_type": "code",
   "execution_count": 10,
   "metadata": {
    "id": "MCmMNAQzaW94"
   },
   "outputs": [],
   "source": [
    "class GameData:\n",
    "    def __init__(self):\n",
    "        self.n = 0\n",
    "        self.m = 0\n",
    "        self.strats_a = None\n",
    "        self.strats_b = None\n",
    "        self.matrix = None\n",
    "        self.solution = None\n",
    "\n",
    "    def play(self):\n",
    "        brm = BrownRobinsonMethod(10**-1)\n",
    "        self.solution = brm.solve(self.matrix)\n",
    "\n",
    "    def print_results(self):\n",
    "        print(\"\\nРезультаты решения:\\n\")\n",
    "        print(\"Чистая стратегия игрока А: {} - {}, стоимость игры: {}\".format(self.solution.pure_1 + 1, self.strats_a[self.solution.pure_1], self.solution.pure_cost_1))\n",
    "        print(\"Чистая стратегия игрока Б: {} - {}, стоимость игры: {}\".format(self.solution.pure_2 + 1, self.strats_b[self.solution.pure_2], self.solution.pure_cost_2))\n",
    "\n",
    "        df1 = pd.DataFrame(data = [self.solution.mixed_1], columns = self.strats_a)\n",
    "        print(\"Смешанная стратегия игрока А:\\n{}\".format(df1))\n",
    "        print(\"Цена игры А при выборе смешанной стратегии: {}\".format(self.solution.mixed_cost_1))\n",
    "\n",
    "        df2 = pd.DataFrame(data = [self.solution.mixed_2], columns = self.strats_b)\n",
    "        print(\"Смешанная стратегия игрока Б:\\n{}\".format(df2))\n",
    "        print(\"Цена игры Б при выборе смешанной стратегии: {}\".format(self.solution.mixed_cost_2))\n",
    "\n"
   ]
  },
  {
   "cell_type": "markdown",
   "metadata": {},
   "source": [
    "#### Вывод"
   ]
  },
  {
   "cell_type": "code",
   "execution_count": 13,
   "metadata": {},
   "outputs": [
    {
     "name": "stdout",
     "output_type": "stream",
     "text": [
      "Исходные данные: \n",
      "[[ 7 -6 11  9]\n",
      " [ 5  8  9  5]\n",
      " [ 1  7  8  2]\n",
      " [ 5 -6  6  7]]\n",
      "['A1', 'A2', 'A3', 'A4']\n",
      "['B1', 'B2', 'B3', 'B4']\n",
      "\n",
      "Результаты решения:\n",
      "\n",
      "Чистая стратегия игрока А: 2 - A2, стоимость игры: 5\n",
      "Чистая стратегия игрока Б: 1 - B1, стоимость игры: 7\n",
      "Смешанная стратегия игрока А:\n",
      "         A1        A2   A3   A4\n",
      "0  0.030769  0.969231  0.0  0.0\n",
      "Цена игры А при выборе смешанной стратегии: 5.4125874125874125\n",
      "Смешанная стратегия игрока Б:\n",
      "         B1        B2   B3   B4\n",
      "0  0.846154  0.153846  0.0  0.0\n",
      "Цена игры Б при выборе смешанной стратегии: 5.4125874125874125\n"
     ]
    }
   ],
   "source": [
    "game = GameData()\n",
    "game.matrix = example\n",
    "game.strats_a = strats_a\n",
    "game.strats_b = strats_b\n",
    "print(\"Исходные данные: \")\n",
    "print(game.matrix)\n",
    "print(game.strats_a)\n",
    "print(game.strats_b)\n",
    "game.play()\n",
    "game.print_results()"
   ]
  }
 ],
 "metadata": {
  "colab": {
   "collapsed_sections": [],
   "name": "Копия блокнота \"Task 1.ipynb\"",
   "provenance": []
  },
  "kernelspec": {
   "display_name": "Python 3",
   "language": "python",
   "name": "python3"
  },
  "language_info": {
   "codemirror_mode": {
    "name": "ipython",
    "version": 3
   },
   "file_extension": ".py",
   "mimetype": "text/x-python",
   "name": "python",
   "nbconvert_exporter": "python",
   "pygments_lexer": "ipython3",
   "version": "3.8.5"
  }
 },
 "nbformat": 4,
 "nbformat_minor": 1
}
