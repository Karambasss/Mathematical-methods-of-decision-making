{
 "cells": [
  {
   "cell_type": "code",
   "execution_count": 1,
   "metadata": {},
   "outputs": [],
   "source": [
    "from pulp import *\n",
    "import pandas as pd"
   ]
  },
  {
   "cell_type": "markdown",
   "metadata": {},
   "source": [
    "# Кузнецов Михаил Пи19-4\n",
    "# Номер билета 34 \n",
    "# Задание № 1\n"
   ]
  },
  {
   "cell_type": "markdown",
   "metadata": {},
   "source": [
    "#### Определяем:\n",
    "1) Поставщиков A1, A2, A3 с запасами a1, a2, a3 \n",
    "\n",
    "2) Потребителей B1, B2, B3, B4 с потребностями b1, b2, b3, b4"
   ]
  },
  {
   "cell_type": "code",
   "execution_count": 2,
   "metadata": {},
   "outputs": [
    {
     "name": "stdout",
     "output_type": "stream",
     "text": [
      "{'A1': 240, 'A2': 70, 'A3': 140} \n",
      "\n",
      "{'B1': 90, 'B2': 190, 'B3': 40, 'B4': 130}\n"
     ]
    }
   ],
   "source": [
    "firms = [\"A1\", \"A2\", \"A3\"] # поставщики\n",
    "a1, a2, a3 = 240, 70, 140 # запасы каждого поставщика\n",
    "\n",
    "# словарь запасов\n",
    "supply = {\"A1\": a1, \"A2\": a2, \"A3\" : a3} # сколько делает каждый поставщик\n",
    "\n",
    "consumers = [\"B1\", \"B2\", \"B3\", \"B4\"] # потребители\n",
    "b1, b2, b3, b4 = 90, 190, 40, 130 # потребности каждого потребителя\n",
    "\n",
    "# словарь потребностей\n",
    "demand = {\n",
    "    \"B1\": b1,\n",
    "    \"B2\": b2,\n",
    "    \"B3\": b3,\n",
    "    \"B4\": b4\n",
    "}\n",
    "print(supply,\"\\n\")\n",
    "\n",
    "print(demand)"
   ]
  },
  {
   "cell_type": "markdown",
   "metadata": {},
   "source": [
    "#### Проверка соответствия транспортной задачи закрытому типу"
   ]
  },
  {
   "cell_type": "code",
   "execution_count": 3,
   "metadata": {},
   "outputs": [
    {
     "name": "stdout",
     "output_type": "stream",
     "text": [
      "Транспортная задача закрытого типа\n"
     ]
    }
   ],
   "source": [
    "if sum(supply.values()) == sum(demand.values()):\n",
    "    print(\"Транспортная задача закрытого типа\")\n",
    "else:\n",
    "    print(\"Транспортная задача открытого типа\")"
   ]
  },
  {
   "cell_type": "markdown",
   "metadata": {},
   "source": [
    "#### Определяем матрицу транспортных расходов (Матрица тарифов)"
   ]
  },
  {
   "cell_type": "markdown",
   "metadata": {},
   "source": [
    "#### Не забываем, что перевозки от A1 к B1 , A3 к B4 запрещены"
   ]
  },
  {
   "cell_type": "code",
   "execution_count": 12,
   "metadata": {},
   "outputs": [],
   "source": [
    "costs = [  # потребители\n",
    "    #B1  B2  B3  B4  \n",
    "    [1000, 13, 9, 8],  # A1   \n",
    "    [15, 8, 7, 10],  # A2   # поставщики\n",
    "    [3, 15, 20, 1000],  # A3 \n",
    "]\n",
    "\n",
    "costs = makeDict([firms, consumers], costs, 0)"
   ]
  },
  {
   "cell_type": "code",
   "execution_count": 13,
   "metadata": {},
   "outputs": [
    {
     "data": {
      "text/plain": [
       "defaultdict(<function pulp.utilities.__makeDict.<locals>.<lambda>()>,\n",
       "            {'A1': defaultdict(<function pulp.utilities.__makeDict.<locals>.<lambda>()>,\n",
       "                         {'B1': 1000, 'B2': 13, 'B3': 9, 'B4': 8}),\n",
       "             'A2': defaultdict(<function pulp.utilities.__makeDict.<locals>.<lambda>()>,\n",
       "                         {'B1': 15, 'B2': 8, 'B3': 7, 'B4': 10}),\n",
       "             'A3': defaultdict(<function pulp.utilities.__makeDict.<locals>.<lambda>()>,\n",
       "                         {'B1': 3, 'B2': 15, 'B3': 20, 'B4': 1000})})"
      ]
     },
     "execution_count": 13,
     "metadata": {},
     "output_type": "execute_result"
    }
   ],
   "source": [
    "costs"
   ]
  },
  {
   "cell_type": "markdown",
   "metadata": {},
   "source": [
    "#### Решаем задачу минимизации"
   ]
  },
  {
   "cell_type": "code",
   "execution_count": 14,
   "metadata": {},
   "outputs": [
    {
     "data": {
      "text/plain": [
       "Distribution_Problem:\n",
       "MINIMIZE\n",
       "None\n",
       "VARIABLES"
      ]
     },
     "execution_count": 14,
     "metadata": {},
     "output_type": "execute_result"
    }
   ],
   "source": [
    "# создаем модель, цель - минимизация расходов на доставку\n",
    "model = LpProblem(\"Distribution_Problem\", LpMinimize)\n",
    "model"
   ]
  },
  {
   "cell_type": "markdown",
   "metadata": {},
   "source": [
    "#### Создаем список кортежей, содержащий все возможные маршруты"
   ]
  },
  {
   "cell_type": "code",
   "execution_count": 15,
   "metadata": {},
   "outputs": [
    {
     "name": "stdout",
     "output_type": "stream",
     "text": [
      "[('A1', 'B1'), ('A1', 'B2'), ('A1', 'B3'), ('A1', 'B4'), ('A2', 'B1'), ('A2', 'B2'), ('A2', 'B3'), ('A2', 'B4'), ('A3', 'B1'), ('A3', 'B2'), ('A3', 'B3'), ('A3', 'B4')]\n"
     ]
    }
   ],
   "source": [
    "Routes = [(w, b) for w in firms for b in consumers]\n",
    "print(Routes)"
   ]
  },
  {
   "cell_type": "markdown",
   "metadata": {},
   "source": [
    "#### Создаем словарь с определением переменных решения для дальнейшего описания целевой функции"
   ]
  },
  {
   "cell_type": "code",
   "execution_count": 16,
   "metadata": {},
   "outputs": [
    {
     "data": {
      "text/plain": [
       "{'A1': {'B1': Numbers_of_goods_A1_B1,\n",
       "  'B2': Numbers_of_goods_A1_B2,\n",
       "  'B3': Numbers_of_goods_A1_B3,\n",
       "  'B4': Numbers_of_goods_A1_B4},\n",
       " 'A2': {'B1': Numbers_of_goods_A2_B1,\n",
       "  'B2': Numbers_of_goods_A2_B2,\n",
       "  'B3': Numbers_of_goods_A2_B3,\n",
       "  'B4': Numbers_of_goods_A2_B4},\n",
       " 'A3': {'B1': Numbers_of_goods_A3_B1,\n",
       "  'B2': Numbers_of_goods_A3_B2,\n",
       "  'B3': Numbers_of_goods_A3_B3,\n",
       "  'B4': Numbers_of_goods_A3_B4}}"
      ]
     },
     "execution_count": 16,
     "metadata": {},
     "output_type": "execute_result"
    }
   ],
   "source": [
    "goods = LpVariable.dicts(\"Numbers_of_goods\", (firms, consumers), 0, None, LpInteger)\n",
    "goods"
   ]
  },
  {
   "cell_type": "markdown",
   "metadata": {},
   "source": [
    "#### Описываем и добавляем в модель целевую функцию"
   ]
  },
  {
   "cell_type": "code",
   "execution_count": 17,
   "metadata": {},
   "outputs": [
    {
     "data": {
      "text/plain": [
       "Distribution_Problem:\n",
       "MINIMIZE\n",
       "1000*Numbers_of_goods_A1_B1 + 13*Numbers_of_goods_A1_B2 + 9*Numbers_of_goods_A1_B3 + 8*Numbers_of_goods_A1_B4 + 15*Numbers_of_goods_A2_B1 + 8*Numbers_of_goods_A2_B2 + 7*Numbers_of_goods_A2_B3 + 10*Numbers_of_goods_A2_B4 + 3*Numbers_of_goods_A3_B1 + 15*Numbers_of_goods_A3_B2 + 20*Numbers_of_goods_A3_B3 + 1000*Numbers_of_goods_A3_B4 + 0\n",
       "VARIABLES\n",
       "0 <= Numbers_of_goods_A1_B1 Integer\n",
       "0 <= Numbers_of_goods_A1_B2 Integer\n",
       "0 <= Numbers_of_goods_A1_B3 Integer\n",
       "0 <= Numbers_of_goods_A1_B4 Integer\n",
       "0 <= Numbers_of_goods_A2_B1 Integer\n",
       "0 <= Numbers_of_goods_A2_B2 Integer\n",
       "0 <= Numbers_of_goods_A2_B3 Integer\n",
       "0 <= Numbers_of_goods_A2_B4 Integer\n",
       "0 <= Numbers_of_goods_A3_B1 Integer\n",
       "0 <= Numbers_of_goods_A3_B2 Integer\n",
       "0 <= Numbers_of_goods_A3_B3 Integer\n",
       "0 <= Numbers_of_goods_A3_B4 Integer"
      ]
     },
     "execution_count": 17,
     "metadata": {},
     "output_type": "execute_result"
    }
   ],
   "source": [
    "model += (\n",
    "    lpSum([goods[w][b] * costs[w][b] for (w, b) in Routes]),\n",
    "    \"Sum_of_Transporting_Costs\"\n",
    ")\n",
    "model"
   ]
  },
  {
   "cell_type": "markdown",
   "metadata": {},
   "source": [
    "#### Задаем ограничения для модели"
   ]
  },
  {
   "cell_type": "code",
   "execution_count": 18,
   "metadata": {},
   "outputs": [
    {
     "data": {
      "text/plain": [
       "Distribution_Problem:\n",
       "MINIMIZE\n",
       "1000*Numbers_of_goods_A1_B1 + 13*Numbers_of_goods_A1_B2 + 9*Numbers_of_goods_A1_B3 + 8*Numbers_of_goods_A1_B4 + 15*Numbers_of_goods_A2_B1 + 8*Numbers_of_goods_A2_B2 + 7*Numbers_of_goods_A2_B3 + 10*Numbers_of_goods_A2_B4 + 3*Numbers_of_goods_A3_B1 + 15*Numbers_of_goods_A3_B2 + 20*Numbers_of_goods_A3_B3 + 1000*Numbers_of_goods_A3_B4 + 0\n",
       "SUBJECT TO\n",
       "Sum_of_Products_out_of_firm_A1: Numbers_of_goods_A1_B1\n",
       " + Numbers_of_goods_A1_B2 + Numbers_of_goods_A1_B3 + Numbers_of_goods_A1_B4\n",
       " <= 240\n",
       "\n",
       "Sum_of_Products_out_of_firm_A2: Numbers_of_goods_A2_B1\n",
       " + Numbers_of_goods_A2_B2 + Numbers_of_goods_A2_B3 + Numbers_of_goods_A2_B4\n",
       " <= 70\n",
       "\n",
       "Sum_of_Products_out_of_firm_A3: Numbers_of_goods_A3_B1\n",
       " + Numbers_of_goods_A3_B2 + Numbers_of_goods_A3_B3 + Numbers_of_goods_A3_B4\n",
       " <= 140\n",
       "\n",
       "Sum_of_Products_into_consumerB1: Numbers_of_goods_A1_B1\n",
       " + Numbers_of_goods_A2_B1 + Numbers_of_goods_A3_B1 = 90\n",
       "\n",
       "Sum_of_Products_into_consumerB2: Numbers_of_goods_A1_B2\n",
       " + Numbers_of_goods_A2_B2 + Numbers_of_goods_A3_B2 = 190\n",
       "\n",
       "Sum_of_Products_into_consumerB3: Numbers_of_goods_A1_B3\n",
       " + Numbers_of_goods_A2_B3 + Numbers_of_goods_A3_B3 = 40\n",
       "\n",
       "Sum_of_Products_into_consumerB4: Numbers_of_goods_A1_B4\n",
       " + Numbers_of_goods_A2_B4 + Numbers_of_goods_A3_B4 = 130\n",
       "\n",
       "VARIABLES\n",
       "0 <= Numbers_of_goods_A1_B1 Integer\n",
       "0 <= Numbers_of_goods_A1_B2 Integer\n",
       "0 <= Numbers_of_goods_A1_B3 Integer\n",
       "0 <= Numbers_of_goods_A1_B4 Integer\n",
       "0 <= Numbers_of_goods_A2_B1 Integer\n",
       "0 <= Numbers_of_goods_A2_B2 Integer\n",
       "0 <= Numbers_of_goods_A2_B3 Integer\n",
       "0 <= Numbers_of_goods_A2_B4 Integer\n",
       "0 <= Numbers_of_goods_A3_B1 Integer\n",
       "0 <= Numbers_of_goods_A3_B2 Integer\n",
       "0 <= Numbers_of_goods_A3_B3 Integer\n",
       "0 <= Numbers_of_goods_A3_B4 Integer"
      ]
     },
     "execution_count": 18,
     "metadata": {},
     "output_type": "execute_result"
    }
   ],
   "source": [
    "# Ограничения максимального объема поставок\n",
    "for w in firms:\n",
    "    model += (\n",
    "        lpSum([goods[w][b] for b in consumers]) <= supply[w],\n",
    "        \"Sum_of_Products_out_of_firm_%s\" % w\n",
    "    )\n",
    "    \n",
    "# Ограничения минимального потребления потребителей\n",
    "for b in consumers:\n",
    "    model += (\n",
    "        lpSum([goods[w][b] for w in firms]) == demand[b],\n",
    "        \"Sum_of_Products_into_consumer%s\" % b\n",
    "    )\n",
    "model   "
   ]
  },
  {
   "cell_type": "markdown",
   "metadata": {},
   "source": [
    "#### Результаты минимизации"
   ]
  },
  {
   "cell_type": "code",
   "execution_count": 19,
   "metadata": {},
   "outputs": [
    {
     "data": {
      "text/plain": [
       "1"
      ]
     },
     "execution_count": 19,
     "metadata": {},
     "output_type": "execute_result"
    }
   ],
   "source": [
    "model.solve()"
   ]
  },
  {
   "cell_type": "code",
   "execution_count": 20,
   "metadata": {},
   "outputs": [
    {
     "name": "stdout",
     "output_type": "stream",
     "text": [
      "Статус решения: 1, Optimal\n",
      "\n",
      "Numbers_of_goods_A1_B1 = 0.0\n",
      "Numbers_of_goods_A1_B2 = 70.0\n",
      "Numbers_of_goods_A1_B3 = 40.0\n",
      "Numbers_of_goods_A1_B4 = 130.0\n",
      "Numbers_of_goods_A2_B1 = 0.0\n",
      "Numbers_of_goods_A2_B2 = 70.0\n",
      "Numbers_of_goods_A2_B3 = 0.0\n",
      "Numbers_of_goods_A2_B4 = 0.0\n",
      "Numbers_of_goods_A3_B1 = 90.0\n",
      "Numbers_of_goods_A3_B2 = 50.0\n",
      "Numbers_of_goods_A3_B3 = 0.0\n",
      "Numbers_of_goods_A3_B4 = 0.0\n",
      "\n",
      "Оптимальное значение целевой функции = 3890.0\n"
     ]
    }
   ],
   "source": [
    "print(f\"Статус решения: {model.status}, {LpStatus[model.status]}\\n\")\n",
    "\n",
    "for v in model.variables():\n",
    "    print(v.name, \"=\", v.varValue)\n",
    "\n",
    "print(f\"\\nОптимальное значение целевой функции = {value(model.objective)}\")"
   ]
  },
  {
   "cell_type": "markdown",
   "metadata": {},
   "source": [
    "#### Оптимальный план перевозки груза"
   ]
  },
  {
   "cell_type": "code",
   "execution_count": 21,
   "metadata": {},
   "outputs": [
    {
     "data": {
      "text/html": [
       "<div>\n",
       "<style scoped>\n",
       "    .dataframe tbody tr th:only-of-type {\n",
       "        vertical-align: middle;\n",
       "    }\n",
       "\n",
       "    .dataframe tbody tr th {\n",
       "        vertical-align: top;\n",
       "    }\n",
       "\n",
       "    .dataframe thead th {\n",
       "        text-align: right;\n",
       "    }\n",
       "</style>\n",
       "<table border=\"1\" class=\"dataframe\">\n",
       "  <thead>\n",
       "    <tr style=\"text-align: right;\">\n",
       "      <th></th>\n",
       "      <th>B1</th>\n",
       "      <th>B2</th>\n",
       "      <th>B3</th>\n",
       "      <th>B4</th>\n",
       "    </tr>\n",
       "  </thead>\n",
       "  <tbody>\n",
       "    <tr>\n",
       "      <th>A1</th>\n",
       "      <td>0.0</td>\n",
       "      <td>70.0</td>\n",
       "      <td>40.0</td>\n",
       "      <td>130.0</td>\n",
       "    </tr>\n",
       "    <tr>\n",
       "      <th>A2</th>\n",
       "      <td>0.0</td>\n",
       "      <td>70.0</td>\n",
       "      <td>0.0</td>\n",
       "      <td>0.0</td>\n",
       "    </tr>\n",
       "    <tr>\n",
       "      <th>A3</th>\n",
       "      <td>90.0</td>\n",
       "      <td>50.0</td>\n",
       "      <td>0.0</td>\n",
       "      <td>0.0</td>\n",
       "    </tr>\n",
       "  </tbody>\n",
       "</table>\n",
       "</div>"
      ],
      "text/plain": [
       "      B1    B2    B3     B4\n",
       "A1   0.0  70.0  40.0  130.0\n",
       "A2   0.0  70.0   0.0    0.0\n",
       "A3  90.0  50.0   0.0    0.0"
      ]
     },
     "execution_count": 21,
     "metadata": {},
     "output_type": "execute_result"
    }
   ],
   "source": [
    "totals = [v.varValue for v in model.variables()]\n",
    "\n",
    "series_obj = pd.Series(totals)\n",
    "  \n",
    "arr = series_obj.values\n",
    "  \n",
    "reshaped_arr = arr.reshape((3, 4))\n",
    "   \n",
    "df = pd.DataFrame(reshaped_arr, index=firms, columns=consumers)\n",
    "\n",
    "df"
   ]
  },
  {
   "cell_type": "markdown",
   "metadata": {},
   "source": [
    "#### Оптимальная стоимость перевозки"
   ]
  },
  {
   "cell_type": "code",
   "execution_count": 22,
   "metadata": {},
   "outputs": [
    {
     "name": "stdout",
     "output_type": "stream",
     "text": [
      "Оптимальная стоимость перевозки = 3890\n"
     ]
    }
   ],
   "source": [
    "print(f\"Оптимальная стоимость перевозки = {int(value(model.objective))}\")"
   ]
  }
 ],
 "metadata": {
  "kernelspec": {
   "display_name": "Python 3",
   "language": "python",
   "name": "python3"
  },
  "language_info": {
   "codemirror_mode": {
    "name": "ipython",
    "version": 3
   },
   "file_extension": ".py",
   "mimetype": "text/x-python",
   "name": "python",
   "nbconvert_exporter": "python",
   "pygments_lexer": "ipython3",
   "version": "3.8.5"
  }
 },
 "nbformat": 4,
 "nbformat_minor": 4
}
