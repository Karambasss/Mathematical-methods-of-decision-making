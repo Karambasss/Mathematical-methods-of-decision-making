{
 "cells": [
  {
   "cell_type": "code",
   "execution_count": 1,
   "metadata": {},
   "outputs": [],
   "source": [
    "import numpy as np\n",
    "from numpy import linalg as LA\n",
    "from random import randrange as rg"
   ]
  },
  {
   "cell_type": "markdown",
   "metadata": {},
   "source": [
    "ГЕНЕРАЦИЯ ИСХОДНЫХ ДАННЫХ"
   ]
  },
  {
   "cell_type": "code",
   "execution_count": null,
   "metadata": {},
   "outputs": [],
   "source": [
    "def create_main_matrix(N, data_type = \"float\"):\n",
    "    data = np.random.rand(N, N+1) * 100\n",
    "    if data_type == \"int\":\n",
    "        data = np.random.randint(1, 110, size = (N, N+1))\n",
    "    main_matrix = data[:, :N]\n",
    "    y = data[:,-1].reshape(N, 1)\n",
    "    return data, y, main_matrix\n",
    "try:\n",
    "    main_matrix_y, y, main_matrix = create_main_matrix(int(input(\"Введите кол-во отраслей: \")), input(\"Введите int, если хотите импользовать целые числа! \"))\n",
    "    print(y)\n",
    "except ValueError:\n",
    "    print(\"Ошибка ввода!\")\n",
    "except KeyboardInterrupt:\n",
    "    print(\"Прервано пользователем\")"
   ]
  },
  {
   "cell_type": "markdown",
   "metadata": {},
   "source": [
    "#### Матрица потребителей"
   ]
  },
  {
   "cell_type": "code",
   "execution_count": null,
   "metadata": {},
   "outputs": [],
   "source": [
    "main_matrix"
   ]
  },
  {
   "cell_type": "markdown",
   "metadata": {},
   "source": [
    "#### Матрица потребителей с конечным потреблением"
   ]
  },
  {
   "cell_type": "code",
   "execution_count": 4,
   "metadata": {},
   "outputs": [
    {
     "data": {
      "text/plain": [
       "array([[24.57576436, 18.71330779, 89.48408311,  7.5360091 ],\n",
       "       [81.77664468, 72.10524809, 81.92139755, 42.39340711],\n",
       "       [92.12758575, 37.94990983, 81.20666188, 63.97064225]])"
      ]
     },
     "execution_count": 4,
     "metadata": {},
     "output_type": "execute_result"
    }
   ],
   "source": [
    "main_matrix_y"
   ]
  },
  {
   "cell_type": "markdown",
   "metadata": {},
   "source": [
    "#### Увеличение конечного потребления "
   ]
  },
  {
   "cell_type": "code",
   "execution_count": 5,
   "metadata": {},
   "outputs": [],
   "source": [
    "def create_double_y(y, choices, k):\n",
    "    choices = list(set(choices)) \n",
    "    for i in range(len(choices)):\n",
    "        if choices[i] >= len(y):\n",
    "            print(\"Неправильные входные данные\")\n",
    "            return\n",
    "    y_temp = np.copy(y)\n",
    "    for i in range(len(choices)):\n",
    "        y_temp[choices[i]] = y_temp[choices[i]] * k\n",
    "    return y_temp"
   ]
  },
  {
   "cell_type": "code",
   "execution_count": 6,
   "metadata": {},
   "outputs": [
    {
     "name": "stdout",
     "output_type": "stream",
     "text": [
      "Введите коэффициент: 2\n",
      "Введите через ПРОБЕЛ номера отраслей: 2 1\n",
      "[[  7.5360091 ]\n",
      " [ 84.78681422]\n",
      " [127.94128451]]\n"
     ]
    }
   ],
   "source": [
    "# choices = [2, 1] #список того, какие отрасли увеличить конечное потребление в 2 раза\n",
    "# k = 2 #коэффициент того, во сколько раз изменился y для отраслей\n",
    "try:\n",
    "    k = float(input(\"Введите коэффициент: \"))\n",
    "    choices = input(\"Введите через ПРОБЕЛ номера отраслей: \")\n",
    "    choices = list(map(int, choices.split(\" \")))\n",
    "    y2 = create_double_y(y, choices, k)\n",
    "    print(y2)\n",
    "except ValueError:\n",
    "    print(\"Ошибка ввода!\")\n",
    "except KeyboardInterrupt:\n",
    "    print(\"Прервано пользователем\")"
   ]
  },
  {
   "cell_type": "markdown",
   "metadata": {},
   "source": [
    "#### Получение валового продукта"
   ]
  },
  {
   "cell_type": "code",
   "execution_count": 7,
   "metadata": {},
   "outputs": [
    {
     "data": {
      "text/plain": [
       "array([[140.30916436],\n",
       "       [278.19669743],\n",
       "       [275.25479971]])"
      ]
     },
     "execution_count": 7,
     "metadata": {},
     "output_type": "execute_result"
    }
   ],
   "source": [
    "#валовый продукт X\n",
    "def create_x(main_matrix):\n",
    "    x = np.array([0.] * len(main_matrix)).reshape(len(main_matrix), 1)\n",
    "    for i in range(len(main_matrix)):\n",
    "#         print(main_matrix[i])\n",
    "        x[i] = sum(main_matrix[i])\n",
    "    return x\n",
    "\n",
    "x = create_x(main_matrix_y)\n",
    "x"
   ]
  },
  {
   "cell_type": "markdown",
   "metadata": {},
   "source": [
    "Тестовые данные из варианта 13 для тестирования моих функций (именно для моего варианта)"
   ]
  },
  {
   "cell_type": "code",
   "execution_count": 8,
   "metadata": {},
   "outputs": [],
   "source": [
    "\n",
    "main_matrix_t = np.array([[13, 35], [24, 30]]) #главная матрица - про потребление\n",
    "\n",
    "y_t = np.array([[100, 160]]).reshape(2, 1) #конечноe потребление y\n",
    "x_t = np.array([[148, 214]]).reshape(2, 1) #объем производства x\n",
    "\n",
    "y2_t = np.array([[200, 160]]).reshape(2, 1) #конечное потребление *2 для 1 отрасли"
   ]
  },
  {
   "cell_type": "markdown",
   "metadata": {},
   "source": [
    "### Основные функции"
   ]
  },
  {
   "cell_type": "markdown",
   "metadata": {},
   "source": [
    "#### Матрица прямых затрат"
   ]
  },
  {
   "cell_type": "code",
   "execution_count": 9,
   "metadata": {},
   "outputs": [
    {
     "data": {
      "text/plain": [
       "array([[0.17515438, 0.06726646, 0.32509545],\n",
       "       [0.58283181, 0.25918801, 0.29762023],\n",
       "       [0.65660419, 0.13641395, 0.2950236 ]])"
      ]
     },
     "execution_count": 9,
     "metadata": {},
     "output_type": "execute_result"
    }
   ],
   "source": [
    "def create_direct_costs_matrix(main_matrix, x):\n",
    "    \n",
    "    A = np.array([[0.] * len(main_matrix)] * len(main_matrix)) #матрица прямых затрат\n",
    "    for i in range(len(main_matrix)):\n",
    "        for j in range(len(main_matrix)):\n",
    "            A[j][i] = main_matrix[j][i] / x[i]\n",
    "    return A\n",
    "A = create_direct_costs_matrix(main_matrix, x)\n",
    "A"
   ]
  },
  {
   "cell_type": "markdown",
   "metadata": {},
   "source": [
    "#### Матрица полных затрат"
   ]
  },
  {
   "cell_type": "code",
   "execution_count": 10,
   "metadata": {},
   "outputs": [
    {
     "data": {
      "text/plain": [
       "array([[2.79176128, 0.53190857, 1.51195933],\n",
       "       [3.51423157, 2.13321236, 2.52114518],\n",
       "       [3.28021246, 0.90819114, 3.31454812]])"
      ]
     },
     "execution_count": 10,
     "metadata": {},
     "output_type": "execute_result"
    }
   ],
   "source": [
    "def create_total_costs_matrix(A):\n",
    "    E = np.eye(len(A)) #единичная матрица 2 на 2\n",
    "    \n",
    "    EA = E - A # Построение матрицы (E-A)\n",
    "    S = LA.inv(EA) #матрица полных затрат\n",
    "    return S\n",
    "\n",
    "\n",
    "S = create_total_costs_matrix(A)\n",
    "S"
   ]
  },
  {
   "cell_type": "markdown",
   "metadata": {},
   "source": [
    "#### Cобственные вектора матрицы А"
   ]
  },
  {
   "cell_type": "code",
   "execution_count": 11,
   "metadata": {},
   "outputs": [
    {
     "data": {
      "text/plain": [
       "array([[-0.37250319, -0.62854889,  0.15462525],\n",
       "       [-0.69028216,  0.32058316, -0.9728583 ],\n",
       "       [-0.62028373,  0.70862736,  0.17215618]])"
      ]
     },
     "execution_count": 11,
     "metadata": {},
     "output_type": "execute_result"
    }
   ],
   "source": [
    "def create_eigen_values_matrix(A):\n",
    "    wa, va = LA.eig(A)\n",
    "    return wa, va #wa - собственные числа, va - собственные вектора матрицы А\n",
    " \n",
    "wa, va = create_eigen_values_matrix(A)\n",
    "va"
   ]
  },
  {
   "cell_type": "markdown",
   "metadata": {},
   "source": [
    "#### Собственные числа матрицы A"
   ]
  },
  {
   "cell_type": "code",
   "execution_count": 12,
   "metadata": {},
   "outputs": [
    {
     "data": {
      "text/plain": [
       "array([ 0.84114669, -0.22566731,  0.1138866 ])"
      ]
     },
     "execution_count": 12,
     "metadata": {},
     "output_type": "execute_result"
    }
   ],
   "source": [
    "wa"
   ]
  },
  {
   "cell_type": "markdown",
   "metadata": {},
   "source": [
    "#### Число Фробениуса"
   ]
  },
  {
   "cell_type": "code",
   "execution_count": 13,
   "metadata": {},
   "outputs": [
    {
     "data": {
      "text/plain": [
       "0.8411466906929831"
      ]
     },
     "execution_count": 13,
     "metadata": {},
     "output_type": "execute_result"
    }
   ],
   "source": [
    "def create_Frobenius_number(wa):\n",
    "    return max(wa).real\n",
    "\n",
    "frob = create_Frobenius_number(wa)\n",
    "frob"
   ]
  },
  {
   "cell_type": "markdown",
   "metadata": {},
   "source": [
    "#### Новый вектор объемов производства(валового выпуска)"
   ]
  },
  {
   "cell_type": "code",
   "execution_count": 14,
   "metadata": {},
   "outputs": [
    {
     "data": {
      "text/plain": [
       "array([[259.57959028],\n",
       "       [529.91011377],\n",
       "       [525.7898885 ]])"
      ]
     },
     "execution_count": 14,
     "metadata": {},
     "output_type": "execute_result"
    }
   ],
   "source": [
    "def create_new_X(S, y2):\n",
    "    x2 = S.dot(y2)\n",
    "    return x2\n",
    "\n",
    "x2 = create_new_X(S, y2) #Вектор новых объемов производства по отраслям, → (валового выпуска)\n",
    "x2"
   ]
  },
  {
   "cell_type": "markdown",
   "metadata": {},
   "source": [
    "#### Вектор чистой продукции отраслей xc"
   ]
  },
  {
   "cell_type": "code",
   "execution_count": 15,
   "metadata": {},
   "outputs": [
    {
     "data": {
      "text/plain": [
       "array([[-62.15270062],\n",
       "       [320.27663576],\n",
       "       [214.18375386]])"
      ]
     },
     "execution_count": 15,
     "metadata": {},
     "output_type": "execute_result"
    }
   ],
   "source": [
    "def create_clear_prod(A, x2):\n",
    "    xc = np.array([0.] * len(A)).reshape(len(A), 1)\n",
    "    for i in range(len(A)):\n",
    "        for j in range(len(A) - 1):\n",
    "            xc[i] = x2[i] - (A[j][i] * x2[i] + A[j + 1][i] * x2[i])\n",
    "    return xc\n",
    "\n",
    "xc_c = create_clear_prod(A, x2)\n",
    "xc_c"
   ]
  },
  {
   "cell_type": "markdown",
   "metadata": {},
   "source": [
    "#### Функции для определения, продуктивна ли матрица\n"
   ]
  },
  {
   "cell_type": "code",
   "execution_count": 16,
   "metadata": {},
   "outputs": [],
   "source": [
    "def is_productiv_total_costs(S):\n",
    "    if len(S[S<0]) == 0:\n",
    "        return True\n",
    "    else:\n",
    "        return False"
   ]
  },
  {
   "cell_type": "code",
   "execution_count": 17,
   "metadata": {},
   "outputs": [],
   "source": [
    "def is_productiv_Frob(Frob):\n",
    "    return True if Frob < 1 else False"
   ]
  },
  {
   "cell_type": "markdown",
   "metadata": {},
   "source": [
    "#### Общий итог"
   ]
  },
  {
   "cell_type": "code",
   "execution_count": 18,
   "metadata": {},
   "outputs": [
    {
     "name": "stdout",
     "output_type": "stream",
     "text": [
      "Матрица прямых затрат =  [[0.17515438 0.06726646 0.32509545]\n",
      " [0.58283181 0.25918801 0.29762023]\n",
      " [0.65660419 0.13641395 0.2950236 ]]\n",
      "\n",
      "Матрица полных затрат =  [[2.79176128 0.53190857 1.51195933]\n",
      " [3.51423157 2.13321236 2.52114518]\n",
      " [3.28021246 0.90819114 3.31454812]]\n",
      "\n",
      "Матрица продуктивна =  True\n",
      "\n",
      "Матрица продуктивна (по числу Фробениуса) =  True\n",
      "\n",
      "Число Фробениуса =  0.8411466906929831\n",
      "\n",
      "Вектор Фробениуса =  [[-0.37250319 -0.62854889  0.15462525]\n",
      " [-0.69028216  0.32058316 -0.9728583 ]\n",
      " [-0.62028373  0.70862736  0.17215618]]\n",
      "\n",
      "Увеличенное в 2.0 раз(а) конечное потребление =  [[  7.5360091   84.78681422 127.94128451]]\n",
      "\n",
      "Новый вектор объемов производства (валового выпуска) =  [[259.57959028 529.91011377 525.7898885 ]]\n",
      "\n",
      "Вектор чистой продукции отраслей xc =  [[-62.15270062 320.27663576 214.18375386]]\n"
     ]
    }
   ],
   "source": [
    "#Ответ\n",
    "print(\"Матрица прямых затрат = \", A)\n",
    "print(\"\\nМатрица полных затрат = \", S)\n",
    "print(\"\\nМатрица продуктивна = \", is_productiv_total_costs(S))\n",
    "print(\"\\nМатрица продуктивна (по числу Фробениуса) = \", is_productiv_Frob(frob))\n",
    "print(\"\\nЧисло Фробениуса = \", frob)\n",
    "print(\"\\nВектор Фробениуса = \", va)\n",
    "print(f\"\\nУвеличенное в {k} раз(а) конечное потребление = \", y2.reshape(1,len(y2)))\n",
    "print(\"\\nНовый вектор объемов производства (валового выпуска) = \", x2.reshape(1,len(x2)))\n",
    "print(\"\\nВектор чистой продукции отраслей xc = \", xc_c.reshape(1,len(xc_c)))"
   ]
  },
  {
   "cell_type": "markdown",
   "metadata": {},
   "source": [
    "### Проверка матрицы на продуктивность"
   ]
  },
  {
   "cell_type": "markdown",
   "metadata": {},
   "source": [
    "#### Проверка по матрице полных затрат(неотрицательность каждого элемента)"
   ]
  },
  {
   "cell_type": "code",
   "execution_count": 19,
   "metadata": {},
   "outputs": [
    {
     "name": "stdout",
     "output_type": "stream",
     "text": [
      "Матрица продуктивна! \n"
     ]
    }
   ],
   "source": [
    "otvet = is_productiv_total_costs(S)\n",
    "if otvet == True:\n",
    "    print(\"Матрица продуктивна! \")\n",
    "else:\n",
    "    print(\"Матрица не продуктивна! \")"
   ]
  },
  {
   "cell_type": "code",
   "execution_count": 20,
   "metadata": {},
   "outputs": [
    {
     "name": "stdout",
     "output_type": "stream",
     "text": [
      "Матрица продуктивна! \n"
     ]
    }
   ],
   "source": [
    "otvet = is_productiv_Frob(frob)\n",
    "if otvet == True:\n",
    "    print(\"Матрица продуктивна! \")\n",
    "else:\n",
    "    print(\"Матрица не продуктивна! \")"
   ]
  },
  {
   "cell_type": "markdown",
   "metadata": {},
   "source": [
    "### График\n",
    "\n"
   ]
  },
  {
   "cell_type": "code",
   "execution_count": 25,
   "metadata": {},
   "outputs": [
    {
     "data": {
      "image/png": "[encoded data removed]",
      "text/plain": [
       "<Figure size 432x288 with 1 Axes>"
      ]
     },
     "metadata": {
      "needs_background": "light"
     },
     "output_type": "display_data"
    }
   ],
   "source": [
    "import matplotlib.pyplot as plt\n",
    "labels = [*range(len(main_matrix))]\n",
    "width = 0.35      \n",
    "fig, ax = plt.subplots()\n",
    "\n",
    "x_for_graph = x.reshape(1, len(x))[0]\n",
    "x2_for_graph = x2.reshape(1, len(x2))[0]\n",
    "ax.bar(labels, x_for_graph, width,  label='Начальный объем')\n",
    "ax.bar(labels, x2_for_graph, width, bottom=x_for_graph,\n",
    "       label='Измененный объем')\n",
    "\n",
    "ax.set_ylabel('Количество продукции')\n",
    "ax.set_title('Объемы производства')\n",
    "ax.set_xticks(labels)\n",
    "ax.set_xlabel('Отрасли по номерам')\n",
    "\n",
    "ax.legend(bbox_to_anchor=(1.05, 1.),\n",
    "                         loc='upper left')\n",
    "\n",
    "plt.show()"
   ]
  }
 ],
 "metadata": {
  "kernelspec": {
   "display_name": "Python 3",
   "language": "python",
   "name": "python3"
  },
  "language_info": {
   "codemirror_mode": {
    "name": "ipython",
    "version": 3
   },
   "file_extension": ".py",
   "mimetype": "text/x-python",
   "name": "python",
   "nbconvert_exporter": "python",
   "pygments_lexer": "ipython3",
   "version": "3.8.5"
  }
 },
 "nbformat": 4,
 "nbformat_minor": 5
}
