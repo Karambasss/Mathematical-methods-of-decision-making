{
 "cells": [
  {
   "cell_type": "markdown",
   "metadata": {},
   "source": [
    "# Кузнецов Михаил Пи19-4"
   ]
  },
  {
   "cell_type": "markdown",
   "metadata": {
    "id": "Zw45PYvJmfMV"
   },
   "source": [
    "\n",
    "# Антагонистические игры\n",
    "\n"
   ]
  },
  {
   "cell_type": "code",
   "execution_count": 174,
   "metadata": {
    "id": "D_YQT9rCT_Du"
   },
   "outputs": [],
   "source": [
    "import pandas as pd\n",
    "import numpy as np\n",
    "import fractions"
   ]
  },
  {
   "cell_type": "markdown",
   "metadata": {
    "id": "r_DEZdj7mqHG"
   },
   "source": [
    "## Численный метод Брауна-Робинсон"
   ]
  },
  {
   "cell_type": "code",
   "execution_count": 175,
   "metadata": {
    "id": "DkPSMUpEbDJ4"
   },
   "outputs": [],
   "source": [
    "class Game:\n",
    "    def __init__(self, game_matrix: np.array, mixed_1: np.array, mixed_2: np.array, mixed_cost_1: float, mixed_cost_2: float):\n",
    "        self.game_matrix = game_matrix\n",
    "        self.mixed_1 = mixed_1\n",
    "        self.mixed_2 = mixed_2\n",
    "        self.mixed_cost_1 = mixed_cost_1\n",
    "        self.mixed_cost_2 = mixed_cost_2\n",
    "\n",
    "        self.pure_1 = 0\n",
    "        self.pure_cost_1 = - np.inf\n",
    "        n, m = game_matrix.shape\n",
    "        for i in range(n):\n",
    "            tmp = np.min(game_matrix[i, : ])\n",
    "            if tmp > self.pure_cost_1:\n",
    "                self.pure_1 = i\n",
    "                self.pure_cost_1 = tmp\n",
    " \n",
    "        self.pure_2 = 0\n",
    "        self.pure_cost_2 = np.inf\n",
    "        \n",
    "        for i in range(m):\n",
    "            tmp = np.max(game_matrix[ : ,i ])\n",
    "            if tmp < self.pure_cost_2:\n",
    "                self.pure_2 = i\n",
    "                self.pure_cost_2 = tmp\n",
    "\n",
    "    def __str__(self):\n",
    "        return \"\".join([\n",
    "        \"mixed strat of А: {}\\n\".format(self.mixed_1),\n",
    "        \"mixed strat of Б: {}\\n\".format(self.mixed_2),\n",
    "        \"pure strat of А: {}\\n\".format(self.pure_1),\n",
    "        \"pure strat of Б: {}\\n\".format(self.pure_2),\n",
    "        \"mixed cost of А: {}\\n\".format(self.mixed_cost_1),\n",
    "        \"mixed cost of Б: {}\\n\".format(self.mixed_cost_2),\n",
    "        \"pure cost of А: {}\\n\".format(self.pure_cost_1),\n",
    "        \"pure cost of Б: {}\\n\".format(self.pure_cost_2)],\n",
    "        )\n",
    "\n",
    "class BrownRobinsonMethod:\n",
    "    def __init__(self, eps = 10**-3):\n",
    "        self.eps = eps\n",
    "\n",
    "    def solve(self, game_matrix: np.array):\n",
    "        m, n = game_matrix.shape\n",
    "\n",
    "        # Вектора смешанных стратегий\n",
    "        x = np.zeros(m)\n",
    "        y = np.zeros(n)\n",
    "\n",
    "        # Вектора выигрыша 1 игрока и проигрыша 2 игрока\n",
    "        win_1 = np.zeros(m)\n",
    "        loss_2 = np.zeros(n)\n",
    "\n",
    "        # Текущие стратегии 1 и 2 игроков; в начале можно и случайный выбор\n",
    "        cur_st_1 = 0 # np.random.randint(m)\n",
    "        cur_st_2 = 0 # np.random.randint(n)\n",
    "\n",
    "        lower_bounds = []\n",
    "        upper_bounds = []\n",
    "\n",
    "\n",
    "        step = 0\n",
    "        cur_eps = np.inf\n",
    "        while cur_eps > self.eps:\n",
    "            # Каждый из игроков исходит от выбора другого игрока на шаге\n",
    "            # Игрок 1 среди выбора стратегии игрока 2 пытается найти наиболее выигрышную стратегию\n",
    "            # Игрок 2 среди выбора стратегии игрока 1 пытается найти наименее проигрышную стратегию\n",
    "            step += 1\n",
    "\n",
    "            win_1 = np.add(win_1, game_matrix[ : ,cur_st_2])\n",
    "            loss_2 = np.add(loss_2, game_matrix[cur_st_1, : ])\n",
    "\n",
    "            x[cur_st_1] += 1\n",
    "            y[cur_st_2] += 1\n",
    "\n",
    "            lower_bound = np.divide(np.min(loss_2), step)\n",
    "            upper_bound = np.divide(np.max(win_1), np.double(step))\n",
    "  \n",
    "            lower_bounds.append(lower_bound)\n",
    "            upper_bounds.append(upper_bound)\n",
    "\n",
    "            cur_eps = np.min(upper_bounds) - np.max(lower_bounds)\n",
    "\n",
    "            cur_st_1 = np.argmax(win_1)\n",
    "            cur_st_2 = np.argmin(loss_2)\n",
    "\n",
    "\n",
    "        cost_1 = max(lower_bounds) + np.divide(cur_eps, 2)\n",
    "        cost_2 = min(upper_bounds) - np.divide(cur_eps, 2)\n",
    "\n",
    "        # Собственно, считаем, с какой вероятностью выбираем каждую стратегию\n",
    "        x = np.divide(x, step)\n",
    "        y = np.divide(y, step)\n",
    "\n",
    "        # Чистая - наиболее вероятная в векторе смешанных\n",
    "        return Game(game_matrix, x, y, cost_1, cost_2)"
   ]
  },
  {
   "cell_type": "markdown",
   "metadata": {
    "id": "T1nelIp8huS0"
   },
   "source": [
    "## Тестовый пример"
   ]
  },
  {
   "cell_type": "code",
   "execution_count": 176,
   "metadata": {
    "colab": {
     "base_uri": "https://localhost:8080/"
    },
    "id": "78jb4lIC6sRU",
    "outputId": "ab194336-627b-4d4d-fcab-ee552163d425"
   },
   "outputs": [
    {
     "name": "stdout",
     "output_type": "stream",
     "text": [
      "mixed strat of А: [0.69465649 0.         0.30534351]\n",
      "mixed strat of Б: [0.80916031 0.         0.19083969]\n",
      "pure strat of А: 2\n",
      "pure strat of Б: 0\n",
      "mixed cost of А: 281.7251113231552\n",
      "mixed cost of Б: 281.7251113231552\n",
      "pure cost of А: 240\n",
      "pure cost of Б: 300\n",
      "\n"
     ]
    }
   ],
   "source": [
    "example = np.array([\n",
    "  [300, 280, 230],\n",
    "  [200, 180, 130],\n",
    "  [240, 380, 400]\n",
    "])\n",
    "\n",
    "brm = BrownRobinsonMethod(10**-1)\n",
    "sol = brm.solve(example)\n",
    "\n",
    "strats_a = [\"Телефоны\", \"Ноутбуки\", \"ПК\"]\n",
    "strats_b = [\"Телефоны\", \"Наушники\", \"Ноутбуки\"]\n",
    "\n",
    "print(sol)"
   ]
  },
  {
   "cell_type": "markdown",
   "metadata": {
    "id": "lroMtk-kz4Gd"
   },
   "source": [
    "### Смешанные стратегии игроков"
   ]
  },
  {
   "cell_type": "code",
   "execution_count": 177,
   "metadata": {
    "colab": {
     "base_uri": "https://localhost:8080/",
     "height": 81
    },
    "id": "4n1KXbK3yMyo",
    "outputId": "478e0019-d4a0-427c-f7d6-b2d336aef09e"
   },
   "outputs": [
    {
     "data": {
      "text/html": [
       "<div>\n",
       "<style scoped>\n",
       "    .dataframe tbody tr th:only-of-type {\n",
       "        vertical-align: middle;\n",
       "    }\n",
       "\n",
       "    .dataframe tbody tr th {\n",
       "        vertical-align: top;\n",
       "    }\n",
       "\n",
       "    .dataframe thead th {\n",
       "        text-align: right;\n",
       "    }\n",
       "</style>\n",
       "<table border=\"1\" class=\"dataframe\">\n",
       "  <thead>\n",
       "    <tr style=\"text-align: right;\">\n",
       "      <th></th>\n",
       "      <th>Телефоны</th>\n",
       "      <th>Ноутбуки</th>\n",
       "      <th>ПК</th>\n",
       "    </tr>\n",
       "  </thead>\n",
       "  <tbody>\n",
       "    <tr>\n",
       "      <th>0</th>\n",
       "      <td>0.694656</td>\n",
       "      <td>0.0</td>\n",
       "      <td>0.305344</td>\n",
       "    </tr>\n",
       "  </tbody>\n",
       "</table>\n",
       "</div>"
      ],
      "text/plain": [
       "   Телефоны  Ноутбуки        ПК\n",
       "0  0.694656       0.0  0.305344"
      ]
     },
     "execution_count": 177,
     "metadata": {},
     "output_type": "execute_result"
    }
   ],
   "source": [
    "df1 = pd.DataFrame(data = [sol.mixed_1], columns = strats_a)\n",
    "df1"
   ]
  },
  {
   "cell_type": "code",
   "execution_count": 178,
   "metadata": {
    "colab": {
     "base_uri": "https://localhost:8080/",
     "height": 81
    },
    "id": "JFasNsNCd7PT",
    "outputId": "d9212f3c-64c3-419b-8d17-39515b96aa8e"
   },
   "outputs": [
    {
     "data": {
      "text/html": [
       "<div>\n",
       "<style scoped>\n",
       "    .dataframe tbody tr th:only-of-type {\n",
       "        vertical-align: middle;\n",
       "    }\n",
       "\n",
       "    .dataframe tbody tr th {\n",
       "        vertical-align: top;\n",
       "    }\n",
       "\n",
       "    .dataframe thead th {\n",
       "        text-align: right;\n",
       "    }\n",
       "</style>\n",
       "<table border=\"1\" class=\"dataframe\">\n",
       "  <thead>\n",
       "    <tr style=\"text-align: right;\">\n",
       "      <th></th>\n",
       "      <th>Телефоны</th>\n",
       "      <th>Наушники</th>\n",
       "      <th>Ноутбуки</th>\n",
       "    </tr>\n",
       "  </thead>\n",
       "  <tbody>\n",
       "    <tr>\n",
       "      <th>0</th>\n",
       "      <td>0.80916</td>\n",
       "      <td>0.0</td>\n",
       "      <td>0.19084</td>\n",
       "    </tr>\n",
       "  </tbody>\n",
       "</table>\n",
       "</div>"
      ],
      "text/plain": [
       "   Телефоны  Наушники  Ноутбуки\n",
       "0   0.80916       0.0   0.19084"
      ]
     },
     "execution_count": 178,
     "metadata": {},
     "output_type": "execute_result"
    }
   ],
   "source": [
    "df2 = pd.DataFrame(data = [sol.mixed_2], columns = strats_b)\n",
    "df2"
   ]
  },
  {
   "cell_type": "code",
   "execution_count": 179,
   "metadata": {
    "colab": {
     "base_uri": "https://localhost:8080/"
    },
    "id": "fKx8APjge9V-",
    "outputId": "8d35cc04-1b96-4c62-fe06-548af44b501f"
   },
   "outputs": [
    {
     "name": "stdout",
     "output_type": "stream",
     "text": [
      "Цена игры А при выборе смешанной стратегии: 281.7251113231552\n",
      "Цена игры Б при выборе смешанной стратегии: 281.7251113231552\n"
     ]
    }
   ],
   "source": [
    "print(\"Цена игры А при выборе смешанной стратегии: {}\".format(sol.mixed_cost_1))\n",
    "print(\"Цена игры Б при выборе смешанной стратегии: {}\".format(sol.mixed_cost_2))"
   ]
  },
  {
   "cell_type": "markdown",
   "metadata": {
    "id": "AmY6vcg311Uk"
   },
   "source": [
    "### Чистые оптимальные стратегии игроков"
   ]
  },
  {
   "cell_type": "code",
   "execution_count": 180,
   "metadata": {
    "colab": {
     "base_uri": "https://localhost:8080/"
    },
    "id": "PpxRuG4tZ0g0",
    "outputId": "9d5f105e-19b5-4bd5-a93e-a7eb37198305"
   },
   "outputs": [
    {
     "name": "stdout",
     "output_type": "stream",
     "text": [
      "Чистая стратегия игрока А: 2, стоимость игры: 240\n",
      "Чистая стратегия игрока Б: 0, стоимость игры: 300\n"
     ]
    }
   ],
   "source": [
    "print(\"Чистая стратегия игрока А: {}, стоимость игры: {}\".format(sol.pure_1, sol.pure_cost_1))\n",
    "print(\"Чистая стратегия игрока Б: {}, стоимость игры: {}\".format(sol.pure_2, sol.pure_cost_2))"
   ]
  },
  {
   "cell_type": "code",
   "execution_count": 181,
   "metadata": {
    "id": "MCmMNAQzaW94"
   },
   "outputs": [],
   "source": [
    "class GameData:\n",
    "    def __init__(self):\n",
    "        self.n = 0\n",
    "        self.m = 0\n",
    "        self.strats_a = None\n",
    "        self.strats_b = None\n",
    "        self.matrix = None\n",
    "        self.solution = None\n",
    "\n",
    "    def play(self):\n",
    "        brm = BrownRobinsonMethod(10**-1)\n",
    "        self.solution = brm.solve(self.matrix)\n",
    "\n",
    "    def print_results(self):\n",
    "        print(\"\\nРезультаты решения:\\n\")\n",
    "        print(\"Чистая стратегия игрока А: {} - {}, стоимость игры: {}\".format(self.solution.pure_1 + 1, self.strats_a[self.solution.pure_1], self.solution.pure_cost_1))\n",
    "        print(\"Чистая стратегия игрока Б: {} - {}, стоимость игры: {}\".format(self.solution.pure_2 + 1, self.strats_b[self.solution.pure_2], self.solution.pure_cost_2))\n",
    "\n",
    "        df1 = pd.DataFrame(data = [self.solution.mixed_1], columns = self.strats_a)\n",
    "        print(\"Смешанная стратегия игрока А:\\n{}\".format(df1))\n",
    "        print(\"Цена игры А при выборе смешанной стратегии: {}\".format(self.solution.mixed_cost_1))\n",
    "\n",
    "        df2 = pd.DataFrame(data = [self.solution.mixed_2], columns = self.strats_b)\n",
    "        print(\"Смешанная стратегия игрока Б:\\n{}\".format(df2))\n",
    "        print(\"Цена игры Б при выборе смешанной стратегии: {}\".format(self.solution.mixed_cost_2))\n",
    "\n"
   ]
  },
  {
   "cell_type": "markdown",
   "metadata": {},
   "source": [
    "#### Метод для ввода пользователем матрицы весовых коэффициентов и названия стратегий с клавиатуры"
   ]
  },
  {
   "cell_type": "code",
   "execution_count": 182,
   "metadata": {},
   "outputs": [],
   "source": [
    "def enterCoef(n, m):\n",
    "    game_matrix = [ [0]*m for i in range(n) ]\n",
    "    names_of_strategies_a = [0] * n\n",
    "    names_of_strategies_b = [0] * m\n",
    "    # ввод стратегий игрока А\n",
    "    for i in range(n):\n",
    "        name = input(f\"Введите название  {i+1} стратегии игрока А: \")\n",
    "        if (name.isdigit() == False) and (len(name) != 0):\n",
    "            names_of_strategies_a[i] = name\n",
    "        else:\n",
    "            print(\"Плохой ввод названия стратегии\")\n",
    "            raise ValueError\n",
    "     # ввод стратегий игрока Б\n",
    "    for i in range(m):\n",
    "        name = input(f\"Введите название  {i+1} стратегии игрока Б: \")\n",
    "        if (name.isdigit() == False) and (len(name) != 0):\n",
    "            names_of_strategies_b[i] = name\n",
    "        else:\n",
    "            print(\"Плохой ввод названия стратегии\")\n",
    "            raise ValueError\n",
    "            \n",
    "    for i in range(n):\n",
    "        for j in range(m):\n",
    "            num = int(input(f\"Введите элемент строки {i+1} столбца {j+1}: \"))\n",
    "            if num > 0:\n",
    "                game_matrix[i][j] = num\n",
    "            else:\n",
    "                raise ValueError\n",
    "            \n",
    "    return (np.array(game_matrix), names_of_strategies_a, names_of_strategies_b)"
   ]
  },
  {
   "cell_type": "markdown",
   "metadata": {},
   "source": [
    "#### Метод для ввода пользователем названия стратегий с клавиатуры и случайная генерация матрицы весовых коэффициентов"
   ]
  },
  {
   "cell_type": "code",
   "execution_count": 183,
   "metadata": {},
   "outputs": [],
   "source": [
    "def randomCoef(n,m):\n",
    "    names_of_strategies_a = [0] * n\n",
    "    names_of_strategies_b = [0] * m\n",
    "    \n",
    "    for i in range(n):\n",
    "        name = input(f\"Введите название  {i+1} стратегии игрока А: \")\n",
    "        if (name.isdigit() == False) and (len(name) != 0):\n",
    "            names_of_strategies_a[i] = name\n",
    "        else:\n",
    "            print(\"Плохой ввод названия стратегии\")\n",
    "            raise ValueError\n",
    "            \n",
    "    for i in range(m):\n",
    "        name = input(f\"Введите название  {i+1} стратегии игрока Б: \")\n",
    "        if (name.isdigit() == False) and (len(name) != 0):\n",
    "            names_of_strategies_b[i] = name\n",
    "        else:\n",
    "            print(\"Плохой ввод названия стратегии\")\n",
    "            raise ValueError \n",
    "            \n",
    "    game_matrix = np.random.randint(1, 500, size = (n,m))\n",
    "    \n",
    "    return (game_matrix, names_of_strategies_a, names_of_strategies_b)"
   ]
  },
  {
   "cell_type": "markdown",
   "metadata": {},
   "source": [
    "#### Метод для считывания из csv"
   ]
  },
  {
   "cell_type": "code",
   "execution_count": 184,
   "metadata": {},
   "outputs": [],
   "source": [
    "def readFromScv(path = \"data/data.csv\"):\n",
    "    main_matrix = pd.read_csv(path)\n",
    "    names_of_strategies_a = list(main_matrix['Names_a'])\n",
    "    main_matrix.drop('Names_a', inplace=True, axis=1)\n",
    "    game_matrix = None\n",
    "    names_of_strategies_b = list(main_matrix.columns)\n",
    "    if sum(main_matrix.isnull().sum()):\n",
    "        print(\"Содержатся пропуски!\")\n",
    "        raise ValueError\n",
    "    else:\n",
    "        if sum(main_matrix.dtypes == object) > 0:\n",
    "            print(\"Содержится строка в файле!\")\n",
    "            raise ValueError\n",
    "        elif (main_matrix <= 0).any().any() == True:\n",
    "            print(\"Содержится отрицательное или нулевое значение!\")\n",
    "            raise ValueError\n",
    "        else:\n",
    "            game_matrix = main_matrix.to_numpy()\n",
    "            \n",
    "    return (game_matrix, names_of_strategies_a, names_of_strategies_b)"
   ]
  },
  {
   "cell_type": "code",
   "execution_count": 191,
   "metadata": {},
   "outputs": [
    {
     "name": "stdout",
     "output_type": "stream",
     "text": [
      "Выберите один из 3 вариантов получения данных \n",
      " Доступные варианты получения данных: {1: 'Ввод с клавиатуры', 2: 'Случайная генерация', 3: 'Чтение из csv'}\n",
      "\n",
      "Введите число для получения данных (от 1 до 3): 3\n",
      "Выбранный вариант получения данных: Чтение из csv\n",
      "   Telephones  Notebooks  Tablets  Apples  Potatos\n",
      "0         300        280      230     300      500\n",
      "1         200        180      130     500      900\n",
      "2         240        380      400     600       12\n"
     ]
    }
   ],
   "source": [
    "games = {1:\"Ввод с клавиатуры\", 2:\"Случайная генерация\", 3:\"Чтение из csv\"}\n",
    "\n",
    "print(f\"Выберите один из 3 вариантов получения данных \\n Доступные варианты получения данных: {games}\")\n",
    "print()\n",
    "\n",
    "game_matrix = None\n",
    "game_names = None\n",
    "\n",
    "try: \n",
    "    choice = int(input(\"Введите число для получения данных (от 1 до 3): \"))\n",
    "    \n",
    "    if (choice > 3) or (choice <= 0):\n",
    "        print(\"Введите число от 1 до 3!\")\n",
    "    \n",
    "    else:\n",
    "        print(f\"Выбранный вариант получения данных: {games[choice]}\")\n",
    "        \n",
    "        if choice == 1:\n",
    "            try:\n",
    "                n = int(input(\"Введите кол-во стратегий для игрока А: \"))\n",
    "                m = int(input(\"Введите кол-во стратегий для игрока Б: \"))\n",
    "                \n",
    "                if (n > 0) and (m > 0):\n",
    "                    game_matrix, names_of_strategies_a, names_of_strategies_b  = enterCoef(n,m)\n",
    "                else:\n",
    "                    print(\"Неправильное кол-во строк/столбцов!\")\n",
    "            except ValueError:\n",
    "                print(\"Неправильный ввод!\")\n",
    "            except KeyboardInterrupt:\n",
    "                 print(\"Прервано пользователем\")\n",
    "        elif choice == 2:\n",
    "            try:\n",
    "                n = int(input(\"Введите кол-во стратегий для игрока А: \"))\n",
    "                m = int(input(\"Введите кол-во стратегий для игрока Б: \"))\n",
    "                \n",
    "                if (n > 0) and (m > 0):\n",
    "                    game_matrix, names_of_strategies_a, names_of_strategies_b  = randomCoef(n,m)\n",
    "                else:\n",
    "                    print(\"Неправильное кол-во строк/столбцов!\")\n",
    "            except ValueError:\n",
    "                print(\"Неправильный ввод!\")\n",
    "            except KeyboardInterrupt:\n",
    "                print(\"Прервано пользователем\")\n",
    "        else:\n",
    "            try:\n",
    "                game_matrix, names_of_strategies_a, names_of_strategies_b = readFromScv()\n",
    "            except FileNotFoundError:\n",
    "                print(\"Файл не найден!\")\n",
    "            except ValueError:\n",
    "                print(\"Измените значения ячеек в файле!\")\n",
    "            except KeyboardInterrupt:\n",
    "                print(\"Прервано пользователем\")\n",
    "            \n",
    "except ValueError:\n",
    "    print(\"Неправильный ввод!\")\n",
    "except KeyboardInterrupt:\n",
    "    print(\"Прервано пользователем\")"
   ]
  },
  {
   "cell_type": "markdown",
   "metadata": {},
   "source": [
    "### Пример ввода"
   ]
  },
  {
   "cell_type": "code",
   "execution_count": 192,
   "metadata": {},
   "outputs": [
    {
     "name": "stdout",
     "output_type": "stream",
     "text": [
      "[[300 280 230 300 500]\n",
      " [200 180 130 500 900]\n",
      " [240 380 400 600  12]]\n",
      "['Tels', 'PC', 'Phones']\n",
      "['Telephones', 'Notebooks', 'Tablets', 'Apples', 'Potatos']\n",
      "\n",
      "Результаты решения:\n",
      "\n",
      "Чистая стратегия игрока А: 1 - Tels, стоимость игры: 230\n",
      "Чистая стратегия игрока Б: 1 - Telephones, стоимость игры: 300\n",
      "Смешанная стратегия игрока А:\n",
      "       Tels        PC    Phones\n",
      "0  0.694832  0.000765  0.304403\n",
      "Цена игры А при выборе смешанной стратегии: 281.70859206133764\n",
      "Смешанная стратегия игрока Б:\n",
      "   Telephones  Notebooks  Tablets  Apples   Potatos\n",
      "0    0.746855        0.0  0.25289     0.0  0.000255\n",
      "Цена игры Б при выборе смешанной стратегии: 281.70859206133764\n"
     ]
    }
   ],
   "source": [
    "game = GameData()\n",
    "game.matrix = game_matrix\n",
    "game.strats_a = names_of_strategies_a\n",
    "game.strats_b = names_of_strategies_b\n",
    "print(game.matrix)\n",
    "print(game.strats_a)\n",
    "print(game.strats_b)\n",
    "game.play()\n",
    "game.print_results()"
   ]
  }
 ],
 "metadata": {
  "colab": {
   "collapsed_sections": [],
   "name": "Копия блокнота \"Task 1.ipynb\"",
   "provenance": []
  },
  "kernelspec": {
   "display_name": "Python 3",
   "language": "python",
   "name": "python3"
  },
  "language_info": {
   "codemirror_mode": {
    "name": "ipython",
    "version": 3
   },
   "file_extension": ".py",
   "mimetype": "text/x-python",
   "name": "python",
   "nbconvert_exporter": "python",
   "pygments_lexer": "ipython3",
   "version": "3.8.5"
  }
 },
 "nbformat": 4,
 "nbformat_minor": 1
}
