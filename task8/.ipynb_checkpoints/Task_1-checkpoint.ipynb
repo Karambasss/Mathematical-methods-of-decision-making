{
 "cells": [
  {
   "cell_type": "markdown",
   "metadata": {
    "id": "Zw45PYvJmfMV"
   },
   "source": [
    "\n",
    "# Антагонистическиие игры\n",
    "---\n",
    "\n"
   ]
  },
  {
   "cell_type": "code",
   "execution_count": 126,
   "metadata": {
    "id": "D_YQT9rCT_Du"
   },
   "outputs": [],
   "source": [
    "import pandas as pd\n",
    "import numpy as np\n",
    "import fractions"
   ]
  },
  {
   "cell_type": "markdown",
   "metadata": {
    "id": "r_DEZdj7mqHG"
   },
   "source": [
    "## Численный метод Брауна-Робинсон"
   ]
  },
  {
   "cell_type": "code",
   "execution_count": 127,
   "metadata": {
    "id": "DkPSMUpEbDJ4"
   },
   "outputs": [],
   "source": [
    "class Game:\n",
    "    def __init__(self, game_matrix: np.array, mixed_1: np.array, mixed_2: np.array, mixed_cost):\n",
    "        self.game_matrix = game_matrix\n",
    "        self.mixed_1 = mixed_1\n",
    "        self.mixed_2 = mixed_2\n",
    "        self.mixed_cost = mixed_cost\n",
    "\n",
    "        self.pure_1 = 0\n",
    "        self.pure_cost_1 = - np.inf\n",
    "        n, m = game_matrix.shape\n",
    "        for i in range(n):\n",
    "            tmp = np.min(game_matrix[i, : ])\n",
    "            if tmp > self.pure_cost_1:\n",
    "                self.pure_1 = i\n",
    "                self.pure_cost_1 = tmp\n",
    " \n",
    "        self.pure_2 = 0\n",
    "        self.pure_cost_2 = np.inf\n",
    "        for i in range(n):\n",
    "            tmp = np.max(game_matrix[ : ,i ])\n",
    "            if tmp < self.pure_cost_2:\n",
    "                self.pure_2 = i\n",
    "                self.pure_cost_2 = tmp\n",
    "\n",
    "    def __str__(self):\n",
    "        return \"\".join([\n",
    "        \"mixed strat of А: {}\\n\".format(self.mixed_1),\n",
    "        \"mixed strat of Б: {}\\n\".format(self.mixed_2),\n",
    "        \"pure strat of А: {}\\n\".format(self.pure_1),\n",
    "        \"pure strat of Б: {}\\n\".format(self.pure_2),\n",
    "        \"mixed cost: {}\\n\".format(self.mixed_cost),\n",
    "        \"pure cost of А: {}\\n\".format(self.pure_cost_1),\n",
    "        \"pure cost of Б: {}\\n\".format(self.pure_cost_2)],\n",
    "        )\n",
    "\n",
    "class BrownRobinsonMethod:\n",
    "    def __init__(self, eps = 10**-3):\n",
    "        self.eps = eps\n",
    "\n",
    "    def solve(self, game_matrix: np.array):\n",
    "        m, n = game_matrix.shape\n",
    "\n",
    "        # Вектора смешанных стратегий\n",
    "        x = np.zeros(m)\n",
    "        y = np.zeros(n)\n",
    "\n",
    "        # Вектора выигрыша 1 игрока и проигрыша 2 игрока\n",
    "        win_1 = np.zeros(m)\n",
    "        loss_2 = np.zeros(n)\n",
    "\n",
    "        # Текущие стратегии 1 и 2 игроков; в начале можно и случайный выбор\n",
    "        cur_st_1 = 0 # np.random.randint(m)\n",
    "        cur_st_2 = 0 # np.random.randint(n)\n",
    "\n",
    "        lower_bounds = []\n",
    "        upper_bounds = []\n",
    "\n",
    "\n",
    "        step = 0\n",
    "        cur_eps = np.inf\n",
    "        while cur_eps > self.eps:\n",
    "            # Каждый из игроков исходит от выбора другого игрока на шаге\n",
    "            # Игрок 1 среди выбора стратегии игрока 2 пытается найти наиболее выигрышную стратегию\n",
    "            # Игрок 2 среди выбора стратегии игрока 1 пытается найти наименее проигрышную стратегию\n",
    "            step += 1\n",
    "\n",
    "            win_1 = np.add(win_1, game_matrix[ : ,cur_st_2])\n",
    "            loss_2 = np.add(loss_2, game_matrix[cur_st_1, : ])\n",
    "\n",
    "            x[cur_st_1] += 1\n",
    "            y[cur_st_2] += 1\n",
    "\n",
    "            lower_bound = np.divide(np.min(loss_2), step)\n",
    "            upper_bound = np.divide(np.max(win_1), np.double(step))\n",
    "  \n",
    "            lower_bounds.append(lower_bound)\n",
    "            upper_bounds.append(upper_bound)\n",
    "\n",
    "            cur_eps = np.min(upper_bounds) - np.max(lower_bounds)\n",
    "\n",
    "            cur_st_1 = np.argmax(win_1)\n",
    "            cur_st_2 = np.argmin(loss_2)\n",
    "\n",
    "\n",
    "        cost = max(lower_bounds) + np.divide(cur_eps, 2)\n",
    "\n",
    "        # Собственно, считаем, с какой вероятностью выбираем каждую стратегию\n",
    "        x = np.divide(x, step)\n",
    "        y = np.divide(y, step)\n",
    "\n",
    "        # Чистая - наиболее вероятная в векторе смешанных\n",
    "        return Game(game_matrix, x, y, cost)"
   ]
  },
  {
   "cell_type": "code",
   "execution_count": 128,
   "metadata": {
    "id": "N0vwt5w06j7B"
   },
   "outputs": [],
   "source": [
    "# Ввод: для считывания поэлементно, можно сначала создать обычный 2-мерный массив, а затем его перегнать в np.array\n",
    "# Для генерации хорошо бы использовать np.random: можно сразу сгенерировать массив нужных размеров\n",
    "# Для считывания из csv есть pandas"
   ]
  },
  {
   "cell_type": "markdown",
   "metadata": {},
   "source": [
    "#### Метод для ввода пользователем матрицы весовых коэффициентов и названия стратегий с клавиатуры"
   ]
  },
  {
   "cell_type": "code",
   "execution_count": 129,
   "metadata": {},
   "outputs": [],
   "source": [
    "def enterCoef(n,m):\n",
    "    game_matrix = [ [0]*m for i in range(n) ]\n",
    "    names_of_strategies = [0] * m\n",
    "    \n",
    "    for i in range(m):\n",
    "        name = input(f\"Введите название  {i+1} стратегии: \")\n",
    "        if (name.isdigit() == False) and (len(name) != 0):\n",
    "            names_of_strategies[i] = name\n",
    "        else:\n",
    "            print(\"Плохой ввод названия стратегии\")\n",
    "            raise ValueError\n",
    "            \n",
    "    for i in range(n):\n",
    "        for j in range(m):\n",
    "            num = float(input(f\"Введите элемент строки {i+1} столбца {j+1}: \"))\n",
    "            if num > 0:\n",
    "                game_matrix[i][j] = num\n",
    "            else:\n",
    "                raise ValueError\n",
    "            \n",
    "    return (np.array(game_matrix), names_of_strategies)"
   ]
  },
  {
   "cell_type": "markdown",
   "metadata": {},
   "source": [
    "#### Метод для ввода пользователем названия стратегий с клавиатуры и случайная генерация матрицы весовых коэффициентов"
   ]
  },
  {
   "cell_type": "code",
   "execution_count": 130,
   "metadata": {},
   "outputs": [],
   "source": [
    "def randomCoef(n,m):\n",
    "    names_of_strategies = [0] * m\n",
    "    \n",
    "    for i in range(m):\n",
    "        name = input(f\"Введите название  {i+1} стратегии: \")\n",
    "        if (name.isdigit() == False) and (len(name) != 0):\n",
    "            names_of_strategies[i] = name\n",
    "        else:\n",
    "            print(\"Плохой ввод названия стратегии\")\n",
    "            raise ValueError      \n",
    "            \n",
    "    game_matrix = np.random.randint(1, 500, size = (n,m))\n",
    "    \n",
    "    return (game_matrix,names_of_strategies)"
   ]
  },
  {
   "cell_type": "markdown",
   "metadata": {},
   "source": [
    "#### Метод для считывания из csv"
   ]
  },
  {
   "cell_type": "code",
   "execution_count": 131,
   "metadata": {},
   "outputs": [],
   "source": [
    "def readFromScv(path = \"data/data.csv\"):\n",
    "    main_matrix = pd.read_csv(path)\n",
    "    game_matrix = None\n",
    "    names_of_strategies = list(main_matrix.columns)\n",
    "    \n",
    "    if sum(main_matrix.isnull().sum()):\n",
    "        print(\"Содержатся пропуски!\")\n",
    "        raise ValueError\n",
    "    else:\n",
    "        if sum(main_matrix.dtypes == object) > 0:\n",
    "            print(\"Содержится строка в файле!\")\n",
    "            raise ValueError\n",
    "        else:\n",
    "            game_matrix = main_matrix.to_numpy()\n",
    "            \n",
    "    return (game_matrix, names_of_strategies)"
   ]
  },
  {
   "cell_type": "code",
   "execution_count": 132,
   "metadata": {},
   "outputs": [
    {
     "name": "stdout",
     "output_type": "stream",
     "text": [
      "Выберите один из 3 вариантов получения данных \n",
      " Доступные варианты получения данных: {1: 'Ввод с клавиатуры', 2: 'Случайная генерация', 3: 'Чтение из csv'}\n",
      "\n",
      "Введите число для получения данных (от 1 до 3): 3\n",
      "Выбранный вариант получения данных: Чтение из csv\n"
     ]
    }
   ],
   "source": [
    "games = {1:\"Ввод с клавиатуры\", 2:\"Случайная генерация\", 3:\"Чтение из csv\"}\n",
    "\n",
    "print(f\"Выберите один из 3 вариантов получения данных \\n Доступные варианты получения данных: {games}\")\n",
    "print()\n",
    "\n",
    "game_matrix = None\n",
    "game_names = None\n",
    "\n",
    "try: \n",
    "    choice = int(input(\"Введите число для получения данных (от 1 до 3): \"))\n",
    "    \n",
    "    if (choice > 3) or (choice <= 0):\n",
    "        print(\"Введите число от 1 до 3!\")\n",
    "    \n",
    "    else:\n",
    "        print(f\"Выбранный вариант получения данных: {games[choice]}\")\n",
    "        \n",
    "        if choice == 1:\n",
    "            try:\n",
    "                n = int(input(\"Введите кол-во строк: \"))\n",
    "                m = int(input(\"Введите кол-во столбцов: \"))\n",
    "                \n",
    "                if (n > 0) and (m > 0):\n",
    "                    game_matrix, game_names  = enterCoef(n,m)\n",
    "                else:\n",
    "                    print(\"Неправильное кол-во строк/столбцов!\")\n",
    "            except ValueError:\n",
    "                print(\"Неправильный ввод!\")\n",
    "            except KeyboardInterrupt:\n",
    "                 print(\"Прервано пользователем\")\n",
    "        elif choice == 2:\n",
    "            try:\n",
    "                n = int(input(\"Введите кол-во строк: \"))\n",
    "                m = int(input(\"Введите кол-во столбцов: \"))\n",
    "                \n",
    "                if (n > 0) and (m > 0):\n",
    "                    game_matrix, game_names  = randomCoef(n,m)\n",
    "                else:\n",
    "                    print(\"Неправильное кол-во строк/столбцов!\")\n",
    "            except ValueError:\n",
    "                print(\"Неправильный ввод!\")\n",
    "            except KeyboardInterrupt:\n",
    "                print(\"Прервано пользователем\")\n",
    "        else:\n",
    "            try:\n",
    "                game_matrix, game_names = readFromScv()\n",
    "            except FileNotFoundError:\n",
    "                print(\"Файл не найден!\")\n",
    "            except ValueError:\n",
    "                print(\"Измените значения ячеек в файле!\")\n",
    "            except KeyboardInterrupt:\n",
    "                print(\"Прервано пользователем\")\n",
    "            \n",
    "except ValueError:\n",
    "    print(\"Неправильный ввод!\")\n",
    "except KeyboardInterrupt:\n",
    "    print(\"Прервано пользователем\")"
   ]
  },
  {
   "cell_type": "code",
   "execution_count": 133,
   "metadata": {},
   "outputs": [
    {
     "name": "stdout",
     "output_type": "stream",
     "text": [
      "Названия стратегий: ['Telephones', 'Notebooks', 'Tablets']\n",
      "Матрица весовых коэффициентов: \n",
      "[[300 280 230]\n",
      " [200 180 130]\n",
      " [240 380 400]]\n"
     ]
    }
   ],
   "source": [
    "print(f\"Названия стратегий: {game_names}\\nМатрица весовых коэффициентов: \\n{game_matrix}\")"
   ]
  },
  {
   "cell_type": "code",
   "execution_count": 134,
   "metadata": {
    "colab": {
     "base_uri": "https://localhost:8080/"
    },
    "id": "78jb4lIC6sRU",
    "outputId": "9a5e60ec-6033-464a-d11e-7964fd267642"
   },
   "outputs": [
    {
     "name": "stdout",
     "output_type": "stream",
     "text": [
      "mixed strat of А: [0.69465649 0.         0.30534351]\n",
      "mixed strat of Б: [0.80916031 0.         0.19083969]\n",
      "pure strat of А: 2\n",
      "pure strat of Б: 0\n",
      "mixed cost: 281.7251113231552\n",
      "pure cost of А: 240\n",
      "pure cost of Б: 300\n",
      "\n"
     ]
    }
   ],
   "source": [
    "example = np.array([\n",
    "  [300, 280, 230],\n",
    "  [200, 180, 130],\n",
    "  [240, 380, 400]\n",
    "])\n",
    "\n",
    "brm = BrownRobinsonMethod(10**-1)\n",
    "sol = brm.solve(game_matrix)\n",
    "\n",
    "print(sol)"
   ]
  },
  {
   "cell_type": "markdown",
   "metadata": {
    "id": "lroMtk-kz4Gd"
   },
   "source": [
    "## Смешанные стратегии игроков"
   ]
  },
  {
   "cell_type": "code",
   "execution_count": 135,
   "metadata": {
    "colab": {
     "base_uri": "https://localhost:8080/",
     "height": 112
    },
    "id": "4n1KXbK3yMyo",
    "outputId": "945dc8c3-c951-40d5-dcce-570cc9aaced2"
   },
   "outputs": [
    {
     "data": {
      "text/html": [
       "<div>\n",
       "<style scoped>\n",
       "    .dataframe tbody tr th:only-of-type {\n",
       "        vertical-align: middle;\n",
       "    }\n",
       "\n",
       "    .dataframe tbody tr th {\n",
       "        vertical-align: top;\n",
       "    }\n",
       "\n",
       "    .dataframe thead th {\n",
       "        text-align: right;\n",
       "    }\n",
       "</style>\n",
       "<table border=\"1\" class=\"dataframe\">\n",
       "  <thead>\n",
       "    <tr style=\"text-align: right;\">\n",
       "      <th></th>\n",
       "      <th>Telephones</th>\n",
       "      <th>Notebooks</th>\n",
       "      <th>Tablets</th>\n",
       "    </tr>\n",
       "  </thead>\n",
       "  <tbody>\n",
       "    <tr>\n",
       "      <th>Игрок А</th>\n",
       "      <td>0.694656</td>\n",
       "      <td>0.0</td>\n",
       "      <td>0.305344</td>\n",
       "    </tr>\n",
       "    <tr>\n",
       "      <th>Игрок Б</th>\n",
       "      <td>0.809160</td>\n",
       "      <td>0.0</td>\n",
       "      <td>0.190840</td>\n",
       "    </tr>\n",
       "  </tbody>\n",
       "</table>\n",
       "</div>"
      ],
      "text/plain": [
       "         Telephones  Notebooks   Tablets\n",
       "Игрок А    0.694656        0.0  0.305344\n",
       "Игрок Б    0.809160        0.0  0.190840"
      ]
     },
     "execution_count": 135,
     "metadata": {},
     "output_type": "execute_result"
    }
   ],
   "source": [
    "df = pd.DataFrame([sol.mixed_1, sol.mixed_2], [\"Игрок А\", \"Игрок Б\"], game_names)\n",
    "df"
   ]
  },
  {
   "cell_type": "markdown",
   "metadata": {
    "id": "AmY6vcg311Uk"
   },
   "source": [
    "## Чистые оптимальные стратегии игроков"
   ]
  }
 ],
 "metadata": {
  "colab": {
   "collapsed_sections": [],
   "name": "Task 1.ipynb",
   "provenance": []
  },
  "kernelspec": {
   "display_name": "Python 3",
   "language": "python",
   "name": "python3"
  },
  "language_info": {
   "codemirror_mode": {
    "name": "ipython",
    "version": 3
   },
   "file_extension": ".py",
   "mimetype": "text/x-python",
   "name": "python",
   "nbconvert_exporter": "python",
   "pygments_lexer": "ipython3",
   "version": "3.8.5"
  }
 },
 "nbformat": 4,
 "nbformat_minor": 1
}
