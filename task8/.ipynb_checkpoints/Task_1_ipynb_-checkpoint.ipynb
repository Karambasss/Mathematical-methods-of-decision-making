{
 "cells": [
  {
   "cell_type": "markdown",
   "metadata": {
    "id": "Zw45PYvJmfMV"
   },
   "source": [
    "\n",
    "# Антагонистическиие игры\n",
    "---\n",
    "\n"
   ]
  },
  {
   "cell_type": "code",
   "execution_count": 1,
   "metadata": {
    "id": "D_YQT9rCT_Du"
   },
   "outputs": [],
   "source": [
    "import pandas as pd\n",
    "import numpy as np\n",
    "import fractions"
   ]
  },
  {
   "cell_type": "markdown",
   "metadata": {
    "id": "r_DEZdj7mqHG"
   },
   "source": [
    "## Численный метод Брауна-Робинсона"
   ]
  },
  {
   "cell_type": "code",
   "execution_count": 2,
   "metadata": {
    "id": "DkPSMUpEbDJ4"
   },
   "outputs": [],
   "source": [
    "class Game:\n",
    "    def __init__(self, game_matrix: np.array, mixed_1: np.array, mixed_2: np.array, mixed_cost):\n",
    "        self.game_matrix = game_matrix\n",
    "        self.mixed_1 = mixed_1\n",
    "        self.mixed_2 = mixed_2\n",
    "        self.mixed_cost = mixed_cost\n",
    "\n",
    "        self.pure_1 = np.argmax(mixed_1)\n",
    "        self.pure_2 = np.argmax(mixed_2)\n",
    "\n",
    "        self.pure_cost = game_matrix[self.pure_1, self.pure_2]\n",
    "    def __str__(self):\n",
    "        return \"\".join([\n",
    "        \"mixed strat of А: {}\\n\".format(self.mixed_1),\n",
    "        \"mixed strat of Б: {}\\n\".format(self.mixed_2),\n",
    "        \"pure strat of А: {}\\n\".format(self.pure_1),\n",
    "        \"pure strat of Б: {}\\n\".format(self.pure_2),\n",
    "        \"mixed cost: {}\\n\".format(self.mixed_cost),\n",
    "        \"pure cost: {}\\n\".format(self.pure_cost)])\n",
    "\n",
    "class BrownRobinsonMethod:\n",
    "    def __init__(self, eps = 10**-3):\n",
    "        self.eps = eps\n",
    "\n",
    "    def solve(self, game_matrix: np.array):\n",
    "        m, n = game_matrix.shape\n",
    "\n",
    "        # Вектора смешанных стратегий\n",
    "        x = np.zeros(m)\n",
    "        y = np.zeros(n)\n",
    "\n",
    "        # Вектора выигрыша 1 игрока и проигрыша 2 игрока\n",
    "        win_1 = np.zeros(m)\n",
    "        loss_2 = np.zeros(n)\n",
    "\n",
    "        # Текущие стратегии 1 и 2 игроков; в начале можно и случайный выбор\n",
    "        cur_st_1 = 0 # np.random.randint(m)\n",
    "        cur_st_2 = 0 # np.random.randint(n)\n",
    "\n",
    "        lower_bounds = []\n",
    "        upper_bounds = []\n",
    "\n",
    "\n",
    "        step = 0\n",
    "        cur_eps = np.inf\n",
    "        while cur_eps > self.eps:\n",
    "            # Каждый из игроков исходит от выбора другого игрока на шаге\n",
    "            # Игрок 1 среди выбора стратегии игрока 2 пытается найти наиболее выигрышную стратегию\n",
    "            # Игрок 2 среди выбора стратегии игрока 1 пытается найти наименее проигрышную стратегию\n",
    "            step += 1\n",
    "\n",
    "            win_1 = np.add(win_1, game_matrix[ : ,cur_st_2])\n",
    "            loss_2 = np.add(loss_2, game_matrix[cur_st_1, : ])\n",
    "\n",
    "            x[cur_st_1] += 1\n",
    "            y[cur_st_2] += 1\n",
    "\n",
    "            lower_bound = np.divide(np.min(loss_2), step)\n",
    "            upper_bound = np.divide(np.max(win_1), np.double(step))\n",
    "  \n",
    "            lower_bounds.append(lower_bound)\n",
    "            upper_bounds.append(upper_bound)\n",
    "\n",
    "            cur_eps = np.min(upper_bounds) - np.max(lower_bounds)\n",
    "\n",
    "            cur_st_1 = np.argmax(win_1)\n",
    "            cur_st_2 = np.argmin(loss_2)\n",
    "\n",
    "\n",
    "        cost = max(lower_bounds) + np.divide(cur_eps, 2)\n",
    "\n",
    "        # Собственно, считаем, с какой вероятностью выбираем каждую стратегию\n",
    "        x = np.divide(x, step)\n",
    "        y = np.divide(y, step)\n",
    "\n",
    "        # Чистая - наиболее вероятная в векторе смешанных\n",
    "        return Game(game_matrix, x, y, cost)"
   ]
  },
  {
   "cell_type": "code",
   "execution_count": 3,
   "metadata": {
    "id": "N0vwt5w06j7B"
   },
   "outputs": [],
   "source": [
    "# Ввод: для считывания поэлементно, можно сначала создать обычный 2-мерный массив, а затем его перегнать в np.array\n",
    "# Для генерации хорошо бы использовать np.random: можно сразу сгенерировать массив нужных размеров\n",
    "# Для считывания из csv есть pandas"
   ]
  },
  {
   "cell_type": "markdown",
   "metadata": {},
   "source": [
    "#### Метод для ввода пользователем матрицы весовых коэффициентов и названия стратегий с клавиатуры"
   ]
  },
  {
   "cell_type": "code",
   "execution_count": 120,
   "metadata": {},
   "outputs": [],
   "source": [
    "def enterCoef(n,m):\n",
    "    game_matrix = [ [0]*m for i in range(n) ]\n",
    "    names_of_strategies = [0] * m\n",
    "    \n",
    "    for i in range(m):\n",
    "        name = input(f\"Введите название  {i+1} стратегии: \")\n",
    "        if name.isdigit() == False:\n",
    "            names_of_strategies[i] = name\n",
    "        else:\n",
    "            print(\"Плохой ввод названия стратегии\")\n",
    "            raise ValueError\n",
    "            \n",
    "    for i in range(n):\n",
    "        for j in range(m):\n",
    "            num = float(input(f\"Введите элемент строки {i+1} столбца {j+1}: \"))\n",
    "            if num >= 0:\n",
    "                game_matrix[i][j] = num\n",
    "            else:\n",
    "                raise ValueError\n",
    "            \n",
    "    return (np.array(game_matrix), names_of_strategies)"
   ]
  },
  {
   "cell_type": "code",
   "execution_count": 121,
   "metadata": {
    "scrolled": true
   },
   "outputs": [
    {
     "name": "stdout",
     "output_type": "stream",
     "text": [
      "Выберите один из 3 вариантов получения данных \n",
      " Доступные варианты получения данных: {1: 'Ввод с клавиатуры', 2: 'Случайная генерация', 3: 'Чтение из csv'}\n",
      "\n",
      "Введите число для получения данных (от 1 до 3): 1\n",
      "Выбранный вариант получения данных: Ввод с клавиатуры\n",
      "Введите кол-во строк: 3\n",
      "Введите кол-во столбцов: 3\n",
      "Введите название  1 стратегии: Телефоны\n",
      "Введите название  2 стратегии: Ноутбуки\n",
      "Введите название  3 стратегии: Планшеты\n",
      "Введите элемент строки 1 столбца 1: 300\n",
      "Введите элемент строки 1 столбца 2: 280\n",
      "Введите элемент строки 1 столбца 3: 230\n",
      "Введите элемент строки 2 столбца 1: 200\n",
      "Введите элемент строки 2 столбца 2: 180\n",
      "Введите элемент строки 2 столбца 3: 130\n",
      "Введите элемент строки 3 столбца 1: 240\n",
      "Введите элемент строки 3 столбца 2: 380\n",
      "Введите элемент строки 3 столбца 3: 400\n"
     ]
    }
   ],
   "source": [
    "games = {1:\"Ввод с клавиатуры\", 2:\"Случайная генерация\", 3:\"Чтение из csv\"}\n",
    "\n",
    "print(f\"Выберите один из 3 вариантов получения данных \\n Доступные варианты получения данных: {games}\")\n",
    "print()\n",
    "\n",
    "game_matrix = None\n",
    "game_names = None\n",
    "\n",
    "try: \n",
    "    choice = int(input(\"Введите число для получения данных (от 1 до 3): \"))\n",
    "    \n",
    "    if (choice > 3) or (choice <= 0):\n",
    "        print(\"Введите число от 1 до 3!\")\n",
    "    \n",
    "    else:\n",
    "        print(f\"Выбранный вариант получения данных: {games[choice]}\")\n",
    "        \n",
    "        if choice == 1:\n",
    "            try:\n",
    "                n = int(input(\"Введите кол-во строк: \"))\n",
    "                m = int(input(\"Введите кол-во столбцов: \"))\n",
    "                \n",
    "                if (n > 0) and (m > 0):\n",
    "                    game_matrix, game_names  = enterCoef(n,m)\n",
    "                else:\n",
    "                    print(\"Неправильное кол-во строк/столбцов!\")\n",
    "            except ValueError:\n",
    "                print(\"Неправильный ввод!\")\n",
    "            except KeyboardInterrupt:\n",
    "                 print(\"Прервано пользователем\")\n",
    "        elif choice == 2:\n",
    "            print(\"TODO2\")\n",
    "        else:\n",
    "            print(\"TODO3\")\n",
    "except ValueError:\n",
    "    print(\"Неправильный ввод!\")\n",
    "except KeyboardInterrupt:\n",
    "    print(\"Прервано пользователем\")"
   ]
  },
  {
   "cell_type": "code",
   "execution_count": 128,
   "metadata": {},
   "outputs": [
    {
     "name": "stdout",
     "output_type": "stream",
     "text": [
      "Названия стратегий: ['Телефоны', 'Ноутбуки', 'Планшеты']\n",
      "Матрица весовых коэффициентов: \n",
      "[[300. 280. 230.]\n",
      " [200. 180. 130.]\n",
      " [240. 380. 400.]]\n"
     ]
    }
   ],
   "source": [
    "print(f\"Названия стратегий: {game_names}\\nМатрица весовых коэффициентов: \\n{game_matrix}\")"
   ]
  },
  {
   "cell_type": "code",
   "execution_count": 129,
   "metadata": {
    "colab": {
     "base_uri": "https://localhost:8080/"
    },
    "id": "78jb4lIC6sRU",
    "outputId": "8ee3f643-4203-48d6-fe2c-c25b2f4dff36"
   },
   "outputs": [
    {
     "name": "stdout",
     "output_type": "stream",
     "text": [
      "mixed strat of А: [0.69565217 0.         0.30434783]\n",
      "mixed strat of Б: [0.77926421 0.         0.22073579]\n",
      "pure strat of А: 0\n",
      "pure strat of Б: 0\n",
      "mixed cost: 281.7391304347826\n",
      "pure cost: 300.0\n",
      "\n",
      "0\n",
      "300.0\n"
     ]
    }
   ],
   "source": [
    "example = np.array([\n",
    "  [300, 280, 230],\n",
    "  [200, 180, 130],\n",
    "  [240, 380, 400]\n",
    "])\n",
    "\n",
    "brm = BrownRobinsonMethod(10**-5)\n",
    "sol = brm.solve(game_matrix)\n",
    "\n",
    "print(sol)\n",
    "print(sol.pure_1)\n",
    "print(sol.pure_cost)"
   ]
  },
  {
   "cell_type": "markdown",
   "metadata": {
    "id": "lroMtk-kz4Gd"
   },
   "source": [
    "## Смешанные стратегии игроков"
   ]
  },
  {
   "cell_type": "code",
   "execution_count": 131,
   "metadata": {
    "colab": {
     "base_uri": "https://localhost:8080/",
     "height": 112
    },
    "id": "4n1KXbK3yMyo",
    "outputId": "8bfbd378-751e-49fb-f9c8-9a784c198348"
   },
   "outputs": [
    {
     "data": {
      "text/html": [
       "<div>\n",
       "<style scoped>\n",
       "    .dataframe tbody tr th:only-of-type {\n",
       "        vertical-align: middle;\n",
       "    }\n",
       "\n",
       "    .dataframe tbody tr th {\n",
       "        vertical-align: top;\n",
       "    }\n",
       "\n",
       "    .dataframe thead th {\n",
       "        text-align: right;\n",
       "    }\n",
       "</style>\n",
       "<table border=\"1\" class=\"dataframe\">\n",
       "  <thead>\n",
       "    <tr style=\"text-align: right;\">\n",
       "      <th></th>\n",
       "      <th>Телефоны</th>\n",
       "      <th>Ноутбуки</th>\n",
       "      <th>Планшеты</th>\n",
       "    </tr>\n",
       "  </thead>\n",
       "  <tbody>\n",
       "    <tr>\n",
       "      <th>Игрок А</th>\n",
       "      <td>0.695652</td>\n",
       "      <td>0.0</td>\n",
       "      <td>0.304348</td>\n",
       "    </tr>\n",
       "    <tr>\n",
       "      <th>Игрок Б</th>\n",
       "      <td>0.779264</td>\n",
       "      <td>0.0</td>\n",
       "      <td>0.220736</td>\n",
       "    </tr>\n",
       "  </tbody>\n",
       "</table>\n",
       "</div>"
      ],
      "text/plain": [
       "         Телефоны  Ноутбуки  Планшеты\n",
       "Игрок А  0.695652       0.0  0.304348\n",
       "Игрок Б  0.779264       0.0  0.220736"
      ]
     },
     "execution_count": 131,
     "metadata": {},
     "output_type": "execute_result"
    }
   ],
   "source": [
    "df = pd.DataFrame([sol.mixed_1, sol.mixed_2], [\"Игрок А\", \"Игрок Б\"], game_names)\n",
    "df"
   ]
  },
  {
   "cell_type": "markdown",
   "metadata": {
    "id": "AmY6vcg311Uk"
   },
   "source": [
    "## Чистые оптимальные стратегии игроков"
   ]
  }
 ],
 "metadata": {
  "colab": {
   "collapsed_sections": [],
   "name": "Копия блокнота \"Task 1.ipynb\"",
   "provenance": []
  },
  "kernelspec": {
   "display_name": "Python 3",
   "language": "python",
   "name": "python3"
  },
  "language_info": {
   "codemirror_mode": {
    "name": "ipython",
    "version": 3
   },
   "file_extension": ".py",
   "mimetype": "text/x-python",
   "name": "python",
   "nbconvert_exporter": "python",
   "pygments_lexer": "ipython3",
   "version": "3.8.5"
  }
 },
 "nbformat": 4,
 "nbformat_minor": 1
}
